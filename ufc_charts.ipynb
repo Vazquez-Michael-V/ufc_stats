{
 "cells": [
  {
   "cell_type": "markdown",
   "id": "bf108be8-5162-491e-a997-c25a4310f3e5",
   "metadata": {},
   "source": [
    "<font size=\"5\">Imports</font>"
   ]
  },
  {
   "cell_type": "code",
   "execution_count": 1,
   "id": "bfe3b2e2-57e3-4e26-bb6e-333f7e18de00",
   "metadata": {},
   "outputs": [],
   "source": [
    "import pandas as pd\n",
    "\n",
    "import seaborn as sns\n",
    "import matplotlib.pyplot as plt"
   ]
  },
  {
   "cell_type": "markdown",
   "id": "b21c0eb1-9372-47a7-812c-1d6940f2838c",
   "metadata": {},
   "source": [
    "<font size=\"5\">Read excel file 'active_fighters_by_country.xlsx'</font>"
   ]
  },
  {
   "cell_type": "code",
   "execution_count": 2,
   "id": "dfefb2cd-6945-46d3-ba34-b32530d60d4d",
   "metadata": {},
   "outputs": [
    {
     "data": {
      "text/html": [
       "<div>\n",
       "<style scoped>\n",
       "    .dataframe tbody tr th:only-of-type {\n",
       "        vertical-align: middle;\n",
       "    }\n",
       "\n",
       "    .dataframe tbody tr th {\n",
       "        vertical-align: top;\n",
       "    }\n",
       "\n",
       "    .dataframe thead th {\n",
       "        text-align: right;\n",
       "    }\n",
       "</style>\n",
       "<table border=\"1\" class=\"dataframe\">\n",
       "  <thead>\n",
       "    <tr style=\"text-align: right;\">\n",
       "      <th></th>\n",
       "      <th>FighterName</th>\n",
       "      <th>Country</th>\n",
       "    </tr>\n",
       "  </thead>\n",
       "  <tbody>\n",
       "    <tr>\n",
       "      <th>0</th>\n",
       "      <td>GUIDO CANNETTI</td>\n",
       "      <td>Argentina</td>\n",
       "    </tr>\n",
       "    <tr>\n",
       "      <th>1</th>\n",
       "      <td>SILVANA JUAREZ</td>\n",
       "      <td>Argentina</td>\n",
       "    </tr>\n",
       "    <tr>\n",
       "      <th>2</th>\n",
       "      <td>ARMEN PETROSYAN</td>\n",
       "      <td>Armenia</td>\n",
       "    </tr>\n",
       "    <tr>\n",
       "      <th>3</th>\n",
       "      <td>JESSICA-ROSE CLARK</td>\n",
       "      <td>Australia</td>\n",
       "    </tr>\n",
       "    <tr>\n",
       "      <th>4</th>\n",
       "      <td>JIMMY CRUTE</td>\n",
       "      <td>Australia</td>\n",
       "    </tr>\n",
       "  </tbody>\n",
       "</table>\n",
       "</div>"
      ],
      "text/plain": [
       "          FighterName    Country\n",
       "0      GUIDO CANNETTI  Argentina\n",
       "1      SILVANA JUAREZ  Argentina\n",
       "2     ARMEN PETROSYAN    Armenia\n",
       "3  JESSICA-ROSE CLARK  Australia\n",
       "4         JIMMY CRUTE  Australia"
      ]
     },
     "execution_count": 2,
     "metadata": {},
     "output_type": "execute_result"
    }
   ],
   "source": [
    "# Excel file obtained by scrapping UFC website. See ufc_stats_4.5.py for script.\n",
    "df_fighters_country = pd.read_excel('active_fighters_by_country.xlsx',\n",
    "                           usecols=['FighterName', 'Country']\n",
    "                           )\n",
    "\n",
    "df_fighters_country.head(5)"
   ]
  },
  {
   "cell_type": "markdown",
   "id": "ff765959-5e5b-41ae-8dde-e8fceea28933",
   "metadata": {},
   "source": [
    "<font size=\"5\">Obtain count of fighters by country.</font>"
   ]
  },
  {
   "cell_type": "code",
   "execution_count": 3,
   "id": "ba74975c-9fb8-401e-a66b-9bf7abdb8f76",
   "metadata": {},
   "outputs": [
    {
     "data": {
      "text/html": [
       "<div>\n",
       "<style scoped>\n",
       "    .dataframe tbody tr th:only-of-type {\n",
       "        vertical-align: middle;\n",
       "    }\n",
       "\n",
       "    .dataframe tbody tr th {\n",
       "        vertical-align: top;\n",
       "    }\n",
       "\n",
       "    .dataframe thead th {\n",
       "        text-align: right;\n",
       "    }\n",
       "</style>\n",
       "<table border=\"1\" class=\"dataframe\">\n",
       "  <thead>\n",
       "    <tr style=\"text-align: right;\">\n",
       "      <th></th>\n",
       "      <th>FighterName</th>\n",
       "    </tr>\n",
       "    <tr>\n",
       "      <th>Country</th>\n",
       "      <th></th>\n",
       "    </tr>\n",
       "  </thead>\n",
       "  <tbody>\n",
       "    <tr>\n",
       "      <th>Argentina</th>\n",
       "      <td>2</td>\n",
       "    </tr>\n",
       "    <tr>\n",
       "      <th>Armenia</th>\n",
       "      <td>1</td>\n",
       "    </tr>\n",
       "    <tr>\n",
       "      <th>Australia</th>\n",
       "      <td>13</td>\n",
       "    </tr>\n",
       "    <tr>\n",
       "      <th>Austria</th>\n",
       "      <td>1</td>\n",
       "    </tr>\n",
       "    <tr>\n",
       "      <th>Brazil</th>\n",
       "      <td>79</td>\n",
       "    </tr>\n",
       "    <tr>\n",
       "      <th>Bulgaria</th>\n",
       "      <td>1</td>\n",
       "    </tr>\n",
       "    <tr>\n",
       "      <th>Canada</th>\n",
       "      <td>18</td>\n",
       "    </tr>\n",
       "    <tr>\n",
       "      <th>China</th>\n",
       "      <td>12</td>\n",
       "    </tr>\n",
       "    <tr>\n",
       "      <th>Czechia</th>\n",
       "      <td>2</td>\n",
       "    </tr>\n",
       "    <tr>\n",
       "      <th>Denmark</th>\n",
       "      <td>3</td>\n",
       "    </tr>\n",
       "  </tbody>\n",
       "</table>\n",
       "</div>"
      ],
      "text/plain": [
       "           FighterName\n",
       "Country               \n",
       "Argentina            2\n",
       "Armenia              1\n",
       "Australia           13\n",
       "Austria              1\n",
       "Brazil              79\n",
       "Bulgaria             1\n",
       "Canada              18\n",
       "China               12\n",
       "Czechia              2\n",
       "Denmark              3"
      ]
     },
     "execution_count": 3,
     "metadata": {},
     "output_type": "execute_result"
    }
   ],
   "source": [
    "df_country_counts = df_fighters_country.groupby(['Country']).count()\n",
    "df_country_counts.head(10)"
   ]
  },
  {
   "cell_type": "code",
   "execution_count": 4,
   "id": "c1915aa8-b6b5-49fe-a25a-9b906addc27f",
   "metadata": {},
   "outputs": [
    {
     "data": {
      "text/html": [
       "<div>\n",
       "<style scoped>\n",
       "    .dataframe tbody tr th:only-of-type {\n",
       "        vertical-align: middle;\n",
       "    }\n",
       "\n",
       "    .dataframe tbody tr th {\n",
       "        vertical-align: top;\n",
       "    }\n",
       "\n",
       "    .dataframe thead th {\n",
       "        text-align: right;\n",
       "    }\n",
       "</style>\n",
       "<table border=\"1\" class=\"dataframe\">\n",
       "  <thead>\n",
       "    <tr style=\"text-align: right;\">\n",
       "      <th></th>\n",
       "      <th>CountFighters</th>\n",
       "      <th>Country</th>\n",
       "    </tr>\n",
       "    <tr>\n",
       "      <th>Country</th>\n",
       "      <th></th>\n",
       "      <th></th>\n",
       "    </tr>\n",
       "  </thead>\n",
       "  <tbody>\n",
       "    <tr>\n",
       "      <th>Argentina</th>\n",
       "      <td>2</td>\n",
       "      <td>Argentina</td>\n",
       "    </tr>\n",
       "    <tr>\n",
       "      <th>Armenia</th>\n",
       "      <td>1</td>\n",
       "      <td>Armenia</td>\n",
       "    </tr>\n",
       "    <tr>\n",
       "      <th>Australia</th>\n",
       "      <td>13</td>\n",
       "      <td>Australia</td>\n",
       "    </tr>\n",
       "    <tr>\n",
       "      <th>Austria</th>\n",
       "      <td>1</td>\n",
       "      <td>Austria</td>\n",
       "    </tr>\n",
       "    <tr>\n",
       "      <th>Brazil</th>\n",
       "      <td>79</td>\n",
       "      <td>Brazil</td>\n",
       "    </tr>\n",
       "  </tbody>\n",
       "</table>\n",
       "</div>"
      ],
      "text/plain": [
       "           CountFighters    Country\n",
       "Country                            \n",
       "Argentina              2  Argentina\n",
       "Armenia                1    Armenia\n",
       "Australia             13  Australia\n",
       "Austria                1    Austria\n",
       "Brazil                79     Brazil"
      ]
     },
     "execution_count": 4,
     "metadata": {},
     "output_type": "execute_result"
    }
   ],
   "source": [
    "df_country_counts['Country'] = df_country_counts.index\n",
    "df_country_counts.rename(columns={'FighterName': 'CountFighters'},\n",
    "                        inplace=True)\n",
    "df_country_counts.head(5)"
   ]
  },
  {
   "cell_type": "markdown",
   "id": "0e6a778b-f1c0-4556-80cf-e448a1089c7f",
   "metadata": {},
   "source": [
    "<font size=\"5\">Plot</font>"
   ]
  },
  {
   "cell_type": "code",
   "execution_count": 5,
   "id": "ec5202d5-8659-4397-98d4-c107c29c5684",
   "metadata": {},
   "outputs": [
    {
     "data": {
      "image/png": "[encoded data removed]",
      "text/plain": [
       "<Figure size 1440x1080 with 1 Axes>"
      ]
     },
     "metadata": {
      "needs_background": "light"
     },
     "output_type": "display_data"
    }
   ],
   "source": [
    "fig = plt.subplots(figsize=(20,15))\n",
    "\n",
    "ax = sns.barplot(x='CountFighters', y='Country', data=df_country_counts,\n",
    "                palette=sns.color_palette(\"Dark2\")\n",
    "                ) \n",
    "\n",
    "plt.grid(alpha=0.5)\n",
    "ax.tick_params(axis='y', pad=1)\n",
    "\n",
    "plt.title('Number of Active UFC Fighters by Country', fontsize=20, pad=15)\n",
    "plt.xlabel('Number of Fighters', fontsize=16)\n",
    "plt.ylabel('Country', fontsize=16)\n",
    "\n",
    "plt.savefig('Number_of_Active_UFC_Fighters_by_Country.jpg')\n",
    "plt.show()"
   ]
  },
  {
   "cell_type": "code",
   "execution_count": null,
   "id": "2478509f-8e82-4c7e-b735-e2fba35e7cc0",
   "metadata": {},
   "outputs": [],
   "source": []
  },
  {
   "cell_type": "code",
   "execution_count": null,
   "id": "267f303c-c7d1-48f9-bd9a-a51e39b40bbb",
   "metadata": {},
   "outputs": [],
   "source": []
  },
  {
   "cell_type": "code",
   "execution_count": null,
   "id": "3b53fba7-b6cb-4101-ba70-cdf4db1bcb14",
   "metadata": {},
   "outputs": [],
   "source": []
  }
 ],
 "metadata": {
  "kernelspec": {
   "display_name": "Python 3 (ipykernel)",
   "language": "python",
   "name": "python3"
  },
  "language_info": {
   "codemirror_mode": {
    "name": "ipython",
    "version": 3
   },
   "file_extension": ".py",
   "mimetype": "text/x-python",
   "name": "python",
   "nbconvert_exporter": "python",
   "pygments_lexer": "ipython3",
   "version": "3.9.7"
  },
  "toc-showmarkdowntxt": true
 },
 "nbformat": 4,
 "nbformat_minor": 5
}
