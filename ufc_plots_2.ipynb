{
 "cells": [
  {
   "cell_type": "markdown",
   "id": "730cf45a-eb72-4564-b839-ebea12d6008c",
   "metadata": {},
   "source": [
    "<font size=\"5\">Imports</font>"
   ]
  },
  {
   "cell_type": "code",
   "execution_count": 90,
   "id": "be68733d-7fc0-44c4-9d3d-bd7c967dc6a8",
   "metadata": {},
   "outputs": [],
   "source": [
    "import pandas as pd\n",
    "\n",
    "\n",
    "import plotly.express as px\n",
    "from plotly import offline\n",
    "\n",
    "import pycountry\n",
    "import pycountry_convert"
   ]
  },
  {
   "cell_type": "markdown",
   "id": "aeacd962-b1a5-4f1d-93bc-52b763d92f0b",
   "metadata": {},
   "source": [
    "<font size=\"5\">Bring in fighter_details DataFrame, obtained from ufc_fighters_details.py file.</font>"
   ]
  },
  {
   "cell_type": "code",
   "execution_count": 91,
   "id": "33680bfc-ddee-45d8-bd08-7aca4a287caf",
   "metadata": {},
   "outputs": [
    {
     "data": {
      "text/html": [
       "<div>\n",
       "<style scoped>\n",
       "    .dataframe tbody tr th:only-of-type {\n",
       "        vertical-align: middle;\n",
       "    }\n",
       "\n",
       "    .dataframe tbody tr th {\n",
       "        vertical-align: top;\n",
       "    }\n",
       "\n",
       "    .dataframe thead th {\n",
       "        text-align: right;\n",
       "    }\n",
       "</style>\n",
       "<table border=\"1\" class=\"dataframe\">\n",
       "  <thead>\n",
       "    <tr style=\"text-align: right;\">\n",
       "      <th></th>\n",
       "      <th>Unnamed: 0</th>\n",
       "      <th>Name</th>\n",
       "      <th>STATUS</th>\n",
       "      <th>HOMETOWN</th>\n",
       "      <th>TRAINS AT</th>\n",
       "      <th>FIGHTING STYLE</th>\n",
       "      <th>AGE</th>\n",
       "      <th>HEIGHT</th>\n",
       "      <th>WEIGHT</th>\n",
       "      <th>OCTAGON DEBUT</th>\n",
       "      <th>REACH</th>\n",
       "      <th>LEG REACH</th>\n",
       "    </tr>\n",
       "  </thead>\n",
       "  <tbody>\n",
       "    <tr>\n",
       "      <th>0</th>\n",
       "      <td>0</td>\n",
       "      <td>Guido Cannetti</td>\n",
       "      <td>ACTIVE</td>\n",
       "      <td>SAN ANTONIO DE PADUA, ARGENTINA</td>\n",
       "      <td>TUAN MMA</td>\n",
       "      <td>STRIKER</td>\n",
       "      <td>42.0</td>\n",
       "      <td>66.0</td>\n",
       "      <td>136.0</td>\n",
       "      <td>NOV. 15, 2014</td>\n",
       "      <td>68.0</td>\n",
       "      <td>38.5</td>\n",
       "    </tr>\n",
       "    <tr>\n",
       "      <th>1</th>\n",
       "      <td>1</td>\n",
       "      <td>Silvana Juarez</td>\n",
       "      <td>ACTIVE</td>\n",
       "      <td>SAN MIGUEL DE TUCUMAN, ARGENTINA</td>\n",
       "      <td>ENTRAM GYM</td>\n",
       "      <td>STRIKER</td>\n",
       "      <td>37.0</td>\n",
       "      <td>64.0</td>\n",
       "      <td>115.5</td>\n",
       "      <td>OCT. 09, 2021</td>\n",
       "      <td>64.0</td>\n",
       "      <td>37.0</td>\n",
       "    </tr>\n",
       "    <tr>\n",
       "      <th>2</th>\n",
       "      <td>2</td>\n",
       "      <td>Armen Petrosyan</td>\n",
       "      <td>ACTIVE</td>\n",
       "      <td>KRASNOYARSK, RUSSIA</td>\n",
       "      <td>NaN</td>\n",
       "      <td>MUAY THAI</td>\n",
       "      <td>31.0</td>\n",
       "      <td>75.0</td>\n",
       "      <td>194.0</td>\n",
       "      <td>FEB. 26, 2022</td>\n",
       "      <td>71.0</td>\n",
       "      <td>42.0</td>\n",
       "    </tr>\n",
       "    <tr>\n",
       "      <th>3</th>\n",
       "      <td>3</td>\n",
       "      <td>Jessica-Rose Clark</td>\n",
       "      <td>ACTIVE</td>\n",
       "      <td>AUSTRALIA</td>\n",
       "      <td>CSA GYM</td>\n",
       "      <td>FREESTYLE</td>\n",
       "      <td>34.0</td>\n",
       "      <td>65.0</td>\n",
       "      <td>135.5</td>\n",
       "      <td>NOV. 18, 2017</td>\n",
       "      <td>64.5</td>\n",
       "      <td>39.0</td>\n",
       "    </tr>\n",
       "    <tr>\n",
       "      <th>4</th>\n",
       "      <td>4</td>\n",
       "      <td>Jimmy Crute</td>\n",
       "      <td>ACTIVE</td>\n",
       "      <td>SINGLETON, AUSTRALIA</td>\n",
       "      <td>THE RESISTANCE TRAINING CENTER</td>\n",
       "      <td>MMA</td>\n",
       "      <td>26.0</td>\n",
       "      <td>74.0</td>\n",
       "      <td>205.5</td>\n",
       "      <td>DEC. 02, 2018</td>\n",
       "      <td>74.0</td>\n",
       "      <td>43.0</td>\n",
       "    </tr>\n",
       "  </tbody>\n",
       "</table>\n",
       "</div>"
      ],
      "text/plain": [
       "   Unnamed: 0                Name  STATUS                          HOMETOWN  \\\n",
       "0           0      Guido Cannetti  ACTIVE   SAN ANTONIO DE PADUA, ARGENTINA   \n",
       "1           1      Silvana Juarez  ACTIVE  SAN MIGUEL DE TUCUMAN, ARGENTINA   \n",
       "2           2     Armen Petrosyan  ACTIVE               KRASNOYARSK, RUSSIA   \n",
       "3           3  Jessica-Rose Clark  ACTIVE                         AUSTRALIA   \n",
       "4           4         Jimmy Crute  ACTIVE              SINGLETON, AUSTRALIA   \n",
       "\n",
       "                        TRAINS AT FIGHTING STYLE   AGE  HEIGHT  WEIGHT  \\\n",
       "0                        TUAN MMA        STRIKER  42.0    66.0   136.0   \n",
       "1                      ENTRAM GYM        STRIKER  37.0    64.0   115.5   \n",
       "2                             NaN      MUAY THAI  31.0    75.0   194.0   \n",
       "3                         CSA GYM      FREESTYLE  34.0    65.0   135.5   \n",
       "4  THE RESISTANCE TRAINING CENTER            MMA  26.0    74.0   205.5   \n",
       "\n",
       "   OCTAGON DEBUT  REACH  LEG REACH  \n",
       "0  NOV. 15, 2014   68.0       38.5  \n",
       "1  OCT. 09, 2021   64.0       37.0  \n",
       "2  FEB. 26, 2022   71.0       42.0  \n",
       "3  NOV. 18, 2017   64.5       39.0  \n",
       "4  DEC. 02, 2018   74.0       43.0  "
      ]
     },
     "execution_count": 91,
     "metadata": {},
     "output_type": "execute_result"
    }
   ],
   "source": [
    "df_individual = pd.read_excel('fighter_details.xlsx')\n",
    "df_individual.head(5)"
   ]
  },
  {
   "cell_type": "markdown",
   "id": "bc0e421e-70db-4b6b-9c14-d08b3c8bfe4d",
   "metadata": {},
   "source": [
    "<font size=\"4\">Clean up df_individual for merging on fighter name.</font>"
   ]
  },
  {
   "cell_type": "code",
   "execution_count": 92,
   "id": "f10a6f46-4c8d-46b1-a142-39a28bad93a8",
   "metadata": {},
   "outputs": [
    {
     "name": "stdout",
     "output_type": "stream",
     "text": [
      "(686, 11)\n"
     ]
    },
    {
     "data": {
      "text/html": [
       "<div>\n",
       "<style scoped>\n",
       "    .dataframe tbody tr th:only-of-type {\n",
       "        vertical-align: middle;\n",
       "    }\n",
       "\n",
       "    .dataframe tbody tr th {\n",
       "        vertical-align: top;\n",
       "    }\n",
       "\n",
       "    .dataframe thead th {\n",
       "        text-align: right;\n",
       "    }\n",
       "</style>\n",
       "<table border=\"1\" class=\"dataframe\">\n",
       "  <thead>\n",
       "    <tr style=\"text-align: right;\">\n",
       "      <th></th>\n",
       "      <th>FighterName</th>\n",
       "      <th>STATUS</th>\n",
       "      <th>HOMETOWN</th>\n",
       "      <th>TRAINS AT</th>\n",
       "      <th>FIGHTING STYLE</th>\n",
       "      <th>AGE</th>\n",
       "      <th>HEIGHT</th>\n",
       "      <th>WEIGHT</th>\n",
       "      <th>OCTAGON DEBUT</th>\n",
       "      <th>REACH</th>\n",
       "      <th>LEG REACH</th>\n",
       "    </tr>\n",
       "  </thead>\n",
       "  <tbody>\n",
       "    <tr>\n",
       "      <th>0</th>\n",
       "      <td>Guido Cannetti</td>\n",
       "      <td>ACTIVE</td>\n",
       "      <td>SAN ANTONIO DE PADUA, ARGENTINA</td>\n",
       "      <td>TUAN MMA</td>\n",
       "      <td>STRIKER</td>\n",
       "      <td>42.0</td>\n",
       "      <td>66.0</td>\n",
       "      <td>136.0</td>\n",
       "      <td>NOV. 15, 2014</td>\n",
       "      <td>68.0</td>\n",
       "      <td>38.5</td>\n",
       "    </tr>\n",
       "    <tr>\n",
       "      <th>1</th>\n",
       "      <td>Silvana Juarez</td>\n",
       "      <td>ACTIVE</td>\n",
       "      <td>SAN MIGUEL DE TUCUMAN, ARGENTINA</td>\n",
       "      <td>ENTRAM GYM</td>\n",
       "      <td>STRIKER</td>\n",
       "      <td>37.0</td>\n",
       "      <td>64.0</td>\n",
       "      <td>115.5</td>\n",
       "      <td>OCT. 09, 2021</td>\n",
       "      <td>64.0</td>\n",
       "      <td>37.0</td>\n",
       "    </tr>\n",
       "    <tr>\n",
       "      <th>2</th>\n",
       "      <td>Armen Petrosyan</td>\n",
       "      <td>ACTIVE</td>\n",
       "      <td>KRASNOYARSK, RUSSIA</td>\n",
       "      <td>NaN</td>\n",
       "      <td>MUAY THAI</td>\n",
       "      <td>31.0</td>\n",
       "      <td>75.0</td>\n",
       "      <td>194.0</td>\n",
       "      <td>FEB. 26, 2022</td>\n",
       "      <td>71.0</td>\n",
       "      <td>42.0</td>\n",
       "    </tr>\n",
       "    <tr>\n",
       "      <th>3</th>\n",
       "      <td>Jessica-Rose Clark</td>\n",
       "      <td>ACTIVE</td>\n",
       "      <td>AUSTRALIA</td>\n",
       "      <td>CSA GYM</td>\n",
       "      <td>FREESTYLE</td>\n",
       "      <td>34.0</td>\n",
       "      <td>65.0</td>\n",
       "      <td>135.5</td>\n",
       "      <td>NOV. 18, 2017</td>\n",
       "      <td>64.5</td>\n",
       "      <td>39.0</td>\n",
       "    </tr>\n",
       "    <tr>\n",
       "      <th>4</th>\n",
       "      <td>Jimmy Crute</td>\n",
       "      <td>ACTIVE</td>\n",
       "      <td>SINGLETON, AUSTRALIA</td>\n",
       "      <td>THE RESISTANCE TRAINING CENTER</td>\n",
       "      <td>MMA</td>\n",
       "      <td>26.0</td>\n",
       "      <td>74.0</td>\n",
       "      <td>205.5</td>\n",
       "      <td>DEC. 02, 2018</td>\n",
       "      <td>74.0</td>\n",
       "      <td>43.0</td>\n",
       "    </tr>\n",
       "  </tbody>\n",
       "</table>\n",
       "</div>"
      ],
      "text/plain": [
       "          FighterName  STATUS                          HOMETOWN  \\\n",
       "0      Guido Cannetti  ACTIVE   SAN ANTONIO DE PADUA, ARGENTINA   \n",
       "1      Silvana Juarez  ACTIVE  SAN MIGUEL DE TUCUMAN, ARGENTINA   \n",
       "2     Armen Petrosyan  ACTIVE               KRASNOYARSK, RUSSIA   \n",
       "3  Jessica-Rose Clark  ACTIVE                         AUSTRALIA   \n",
       "4         Jimmy Crute  ACTIVE              SINGLETON, AUSTRALIA   \n",
       "\n",
       "                        TRAINS AT FIGHTING STYLE   AGE  HEIGHT  WEIGHT  \\\n",
       "0                        TUAN MMA        STRIKER  42.0    66.0   136.0   \n",
       "1                      ENTRAM GYM        STRIKER  37.0    64.0   115.5   \n",
       "2                             NaN      MUAY THAI  31.0    75.0   194.0   \n",
       "3                         CSA GYM      FREESTYLE  34.0    65.0   135.5   \n",
       "4  THE RESISTANCE TRAINING CENTER            MMA  26.0    74.0   205.5   \n",
       "\n",
       "   OCTAGON DEBUT  REACH  LEG REACH  \n",
       "0  NOV. 15, 2014   68.0       38.5  \n",
       "1  OCT. 09, 2021   64.0       37.0  \n",
       "2  FEB. 26, 2022   71.0       42.0  \n",
       "3  NOV. 18, 2017   64.5       39.0  \n",
       "4  DEC. 02, 2018   74.0       43.0  "
      ]
     },
     "execution_count": 92,
     "metadata": {},
     "output_type": "execute_result"
    }
   ],
   "source": [
    "df_individual.drop(columns=['Unnamed: 0'], inplace=True)\n",
    "df_individual.rename(columns={'Name': 'FighterName'}, inplace=True)\n",
    "print(df_individual.shape)\n",
    "df_individual.head(5)"
   ]
  },
  {
   "cell_type": "code",
   "execution_count": 93,
   "id": "240e3cf1-be06-4529-be18-66b74369b7a5",
   "metadata": {},
   "outputs": [],
   "source": [
    "df_individual['FighterName'] = df_individual['FighterName'].str.upper()"
   ]
  },
  {
   "cell_type": "code",
   "execution_count": 94,
   "id": "83e82b1a-e544-4833-85c9-a42e943b4ec5",
   "metadata": {},
   "outputs": [
    {
     "name": "stdout",
     "output_type": "stream",
     "text": [
      "(686, 11)\n"
     ]
    },
    {
     "data": {
      "text/html": [
       "<div>\n",
       "<style scoped>\n",
       "    .dataframe tbody tr th:only-of-type {\n",
       "        vertical-align: middle;\n",
       "    }\n",
       "\n",
       "    .dataframe tbody tr th {\n",
       "        vertical-align: top;\n",
       "    }\n",
       "\n",
       "    .dataframe thead th {\n",
       "        text-align: right;\n",
       "    }\n",
       "</style>\n",
       "<table border=\"1\" class=\"dataframe\">\n",
       "  <thead>\n",
       "    <tr style=\"text-align: right;\">\n",
       "      <th></th>\n",
       "      <th>FighterName</th>\n",
       "      <th>STATUS</th>\n",
       "      <th>HOMETOWN</th>\n",
       "      <th>TRAINS AT</th>\n",
       "      <th>FIGHTING STYLE</th>\n",
       "      <th>AGE</th>\n",
       "      <th>HEIGHT</th>\n",
       "      <th>WEIGHT</th>\n",
       "      <th>OCTAGON DEBUT</th>\n",
       "      <th>REACH</th>\n",
       "      <th>LEG REACH</th>\n",
       "    </tr>\n",
       "  </thead>\n",
       "  <tbody>\n",
       "    <tr>\n",
       "      <th>0</th>\n",
       "      <td>GUIDO CANNETTI</td>\n",
       "      <td>ACTIVE</td>\n",
       "      <td>SAN ANTONIO DE PADUA, ARGENTINA</td>\n",
       "      <td>TUAN MMA</td>\n",
       "      <td>STRIKER</td>\n",
       "      <td>42.0</td>\n",
       "      <td>66.0</td>\n",
       "      <td>136.0</td>\n",
       "      <td>NOV. 15, 2014</td>\n",
       "      <td>68.0</td>\n",
       "      <td>38.5</td>\n",
       "    </tr>\n",
       "    <tr>\n",
       "      <th>1</th>\n",
       "      <td>SILVANA JUAREZ</td>\n",
       "      <td>ACTIVE</td>\n",
       "      <td>SAN MIGUEL DE TUCUMAN, ARGENTINA</td>\n",
       "      <td>ENTRAM GYM</td>\n",
       "      <td>STRIKER</td>\n",
       "      <td>37.0</td>\n",
       "      <td>64.0</td>\n",
       "      <td>115.5</td>\n",
       "      <td>OCT. 09, 2021</td>\n",
       "      <td>64.0</td>\n",
       "      <td>37.0</td>\n",
       "    </tr>\n",
       "    <tr>\n",
       "      <th>2</th>\n",
       "      <td>ARMEN PETROSYAN</td>\n",
       "      <td>ACTIVE</td>\n",
       "      <td>KRASNOYARSK, RUSSIA</td>\n",
       "      <td>NaN</td>\n",
       "      <td>MUAY THAI</td>\n",
       "      <td>31.0</td>\n",
       "      <td>75.0</td>\n",
       "      <td>194.0</td>\n",
       "      <td>FEB. 26, 2022</td>\n",
       "      <td>71.0</td>\n",
       "      <td>42.0</td>\n",
       "    </tr>\n",
       "    <tr>\n",
       "      <th>3</th>\n",
       "      <td>JESSICA-ROSE CLARK</td>\n",
       "      <td>ACTIVE</td>\n",
       "      <td>AUSTRALIA</td>\n",
       "      <td>CSA GYM</td>\n",
       "      <td>FREESTYLE</td>\n",
       "      <td>34.0</td>\n",
       "      <td>65.0</td>\n",
       "      <td>135.5</td>\n",
       "      <td>NOV. 18, 2017</td>\n",
       "      <td>64.5</td>\n",
       "      <td>39.0</td>\n",
       "    </tr>\n",
       "    <tr>\n",
       "      <th>4</th>\n",
       "      <td>JIMMY CRUTE</td>\n",
       "      <td>ACTIVE</td>\n",
       "      <td>SINGLETON, AUSTRALIA</td>\n",
       "      <td>THE RESISTANCE TRAINING CENTER</td>\n",
       "      <td>MMA</td>\n",
       "      <td>26.0</td>\n",
       "      <td>74.0</td>\n",
       "      <td>205.5</td>\n",
       "      <td>DEC. 02, 2018</td>\n",
       "      <td>74.0</td>\n",
       "      <td>43.0</td>\n",
       "    </tr>\n",
       "  </tbody>\n",
       "</table>\n",
       "</div>"
      ],
      "text/plain": [
       "          FighterName  STATUS                          HOMETOWN  \\\n",
       "0      GUIDO CANNETTI  ACTIVE   SAN ANTONIO DE PADUA, ARGENTINA   \n",
       "1      SILVANA JUAREZ  ACTIVE  SAN MIGUEL DE TUCUMAN, ARGENTINA   \n",
       "2     ARMEN PETROSYAN  ACTIVE               KRASNOYARSK, RUSSIA   \n",
       "3  JESSICA-ROSE CLARK  ACTIVE                         AUSTRALIA   \n",
       "4         JIMMY CRUTE  ACTIVE              SINGLETON, AUSTRALIA   \n",
       "\n",
       "                        TRAINS AT FIGHTING STYLE   AGE  HEIGHT  WEIGHT  \\\n",
       "0                        TUAN MMA        STRIKER  42.0    66.0   136.0   \n",
       "1                      ENTRAM GYM        STRIKER  37.0    64.0   115.5   \n",
       "2                             NaN      MUAY THAI  31.0    75.0   194.0   \n",
       "3                         CSA GYM      FREESTYLE  34.0    65.0   135.5   \n",
       "4  THE RESISTANCE TRAINING CENTER            MMA  26.0    74.0   205.5   \n",
       "\n",
       "   OCTAGON DEBUT  REACH  LEG REACH  \n",
       "0  NOV. 15, 2014   68.0       38.5  \n",
       "1  OCT. 09, 2021   64.0       37.0  \n",
       "2  FEB. 26, 2022   71.0       42.0  \n",
       "3  NOV. 18, 2017   64.5       39.0  \n",
       "4  DEC. 02, 2018   74.0       43.0  "
      ]
     },
     "execution_count": 94,
     "metadata": {},
     "output_type": "execute_result"
    }
   ],
   "source": [
    "print(df_individual.shape)\n",
    "df_individual.head(5)"
   ]
  },
  {
   "cell_type": "markdown",
   "id": "12ff9085-c534-4eab-b1e2-1a47c8f135d0",
   "metadata": {},
   "source": [
    "<font size=\"5\">Bring in active fighters country DataFrame, obtained from ufc_stats_4.5.py file.</font>"
   ]
  },
  {
   "cell_type": "code",
   "execution_count": 95,
   "id": "4cb8a9e4-e53b-4167-939e-2dff06bdf957",
   "metadata": {},
   "outputs": [
    {
     "data": {
      "text/html": [
       "<div>\n",
       "<style scoped>\n",
       "    .dataframe tbody tr th:only-of-type {\n",
       "        vertical-align: middle;\n",
       "    }\n",
       "\n",
       "    .dataframe tbody tr th {\n",
       "        vertical-align: top;\n",
       "    }\n",
       "\n",
       "    .dataframe thead th {\n",
       "        text-align: right;\n",
       "    }\n",
       "</style>\n",
       "<table border=\"1\" class=\"dataframe\">\n",
       "  <thead>\n",
       "    <tr style=\"text-align: right;\">\n",
       "      <th></th>\n",
       "      <th>FighterName</th>\n",
       "      <th>Country</th>\n",
       "      <th>Wins</th>\n",
       "      <th>Losses</th>\n",
       "      <th>Draws</th>\n",
       "    </tr>\n",
       "  </thead>\n",
       "  <tbody>\n",
       "    <tr>\n",
       "      <th>0</th>\n",
       "      <td>GUIDO CANNETTI</td>\n",
       "      <td>Argentina</td>\n",
       "      <td>9</td>\n",
       "      <td>7</td>\n",
       "      <td>0</td>\n",
       "    </tr>\n",
       "    <tr>\n",
       "      <th>1</th>\n",
       "      <td>SILVANA JUAREZ</td>\n",
       "      <td>Argentina</td>\n",
       "      <td>6</td>\n",
       "      <td>4</td>\n",
       "      <td>0</td>\n",
       "    </tr>\n",
       "    <tr>\n",
       "      <th>2</th>\n",
       "      <td>ARMEN PETROSYAN</td>\n",
       "      <td>Armenia</td>\n",
       "      <td>7</td>\n",
       "      <td>1</td>\n",
       "      <td>0</td>\n",
       "    </tr>\n",
       "    <tr>\n",
       "      <th>3</th>\n",
       "      <td>JESSICA-ROSE CLARK</td>\n",
       "      <td>Australia</td>\n",
       "      <td>11</td>\n",
       "      <td>7</td>\n",
       "      <td>0</td>\n",
       "    </tr>\n",
       "    <tr>\n",
       "      <th>4</th>\n",
       "      <td>JIMMY CRUTE</td>\n",
       "      <td>Australia</td>\n",
       "      <td>12</td>\n",
       "      <td>3</td>\n",
       "      <td>0</td>\n",
       "    </tr>\n",
       "  </tbody>\n",
       "</table>\n",
       "</div>"
      ],
      "text/plain": [
       "          FighterName    Country  Wins  Losses  Draws\n",
       "0      GUIDO CANNETTI  Argentina     9       7      0\n",
       "1      SILVANA JUAREZ  Argentina     6       4      0\n",
       "2     ARMEN PETROSYAN    Armenia     7       1      0\n",
       "3  JESSICA-ROSE CLARK  Australia    11       7      0\n",
       "4         JIMMY CRUTE  Australia    12       3      0"
      ]
     },
     "execution_count": 95,
     "metadata": {},
     "output_type": "execute_result"
    }
   ],
   "source": [
    "df_fighters_country = pd.read_excel('active_fighters_by_country.xlsx',\n",
    "                                   usecols=['FighterName', 'Country', 'Wins', 'Losses', 'Draws']\n",
    "                                   )\n",
    "df_fighters_country.head(5)"
   ]
  },
  {
   "cell_type": "markdown",
   "id": "e82e9e40-f665-4e76-9739-c62ba372b467",
   "metadata": {},
   "source": [
    "<font size=\"5\">Merge the fighters country and fighters details DataFrames on FighterName.</font>"
   ]
  },
  {
   "cell_type": "code",
   "execution_count": 96,
   "id": "f09cda01-cb24-436d-b25b-dc59557478de",
   "metadata": {},
   "outputs": [
    {
     "name": "stdout",
     "output_type": "stream",
     "text": [
      "(686, 11)\n",
      "(686, 5)\n"
     ]
    }
   ],
   "source": [
    "print(df_individual.shape)\n",
    "print(df_fighters_country.shape)"
   ]
  },
  {
   "cell_type": "code",
   "execution_count": 97,
   "id": "9f32745d-6ed2-4482-840b-c5e9bac2d60c",
   "metadata": {},
   "outputs": [],
   "source": [
    "df_merge = pd.merge(df_individual, df_fighters_country, on=['FighterName'], how='inner')"
   ]
  },
  {
   "cell_type": "code",
   "execution_count": 98,
   "id": "af009f2c-46d2-40ff-9fd1-0f45ee1fd189",
   "metadata": {},
   "outputs": [
    {
     "data": {
      "text/html": [
       "<div>\n",
       "<style scoped>\n",
       "    .dataframe tbody tr th:only-of-type {\n",
       "        vertical-align: middle;\n",
       "    }\n",
       "\n",
       "    .dataframe tbody tr th {\n",
       "        vertical-align: top;\n",
       "    }\n",
       "\n",
       "    .dataframe thead th {\n",
       "        text-align: right;\n",
       "    }\n",
       "</style>\n",
       "<table border=\"1\" class=\"dataframe\">\n",
       "  <thead>\n",
       "    <tr style=\"text-align: right;\">\n",
       "      <th></th>\n",
       "      <th>FighterName</th>\n",
       "      <th>STATUS</th>\n",
       "      <th>HOMETOWN</th>\n",
       "      <th>TRAINS AT</th>\n",
       "      <th>FIGHTING STYLE</th>\n",
       "      <th>AGE</th>\n",
       "      <th>HEIGHT</th>\n",
       "      <th>WEIGHT</th>\n",
       "      <th>OCTAGON DEBUT</th>\n",
       "      <th>REACH</th>\n",
       "      <th>LEG REACH</th>\n",
       "      <th>Country</th>\n",
       "      <th>Wins</th>\n",
       "      <th>Losses</th>\n",
       "      <th>Draws</th>\n",
       "    </tr>\n",
       "  </thead>\n",
       "  <tbody>\n",
       "    <tr>\n",
       "      <th>0</th>\n",
       "      <td>GUIDO CANNETTI</td>\n",
       "      <td>ACTIVE</td>\n",
       "      <td>SAN ANTONIO DE PADUA, ARGENTINA</td>\n",
       "      <td>TUAN MMA</td>\n",
       "      <td>STRIKER</td>\n",
       "      <td>42.0</td>\n",
       "      <td>66.0</td>\n",
       "      <td>136.0</td>\n",
       "      <td>NOV. 15, 2014</td>\n",
       "      <td>68.0</td>\n",
       "      <td>38.5</td>\n",
       "      <td>Argentina</td>\n",
       "      <td>9</td>\n",
       "      <td>7</td>\n",
       "      <td>0</td>\n",
       "    </tr>\n",
       "    <tr>\n",
       "      <th>1</th>\n",
       "      <td>SILVANA JUAREZ</td>\n",
       "      <td>ACTIVE</td>\n",
       "      <td>SAN MIGUEL DE TUCUMAN, ARGENTINA</td>\n",
       "      <td>ENTRAM GYM</td>\n",
       "      <td>STRIKER</td>\n",
       "      <td>37.0</td>\n",
       "      <td>64.0</td>\n",
       "      <td>115.5</td>\n",
       "      <td>OCT. 09, 2021</td>\n",
       "      <td>64.0</td>\n",
       "      <td>37.0</td>\n",
       "      <td>Argentina</td>\n",
       "      <td>6</td>\n",
       "      <td>4</td>\n",
       "      <td>0</td>\n",
       "    </tr>\n",
       "    <tr>\n",
       "      <th>2</th>\n",
       "      <td>ARMEN PETROSYAN</td>\n",
       "      <td>ACTIVE</td>\n",
       "      <td>KRASNOYARSK, RUSSIA</td>\n",
       "      <td>NaN</td>\n",
       "      <td>MUAY THAI</td>\n",
       "      <td>31.0</td>\n",
       "      <td>75.0</td>\n",
       "      <td>194.0</td>\n",
       "      <td>FEB. 26, 2022</td>\n",
       "      <td>71.0</td>\n",
       "      <td>42.0</td>\n",
       "      <td>Armenia</td>\n",
       "      <td>7</td>\n",
       "      <td>1</td>\n",
       "      <td>0</td>\n",
       "    </tr>\n",
       "    <tr>\n",
       "      <th>3</th>\n",
       "      <td>JESSICA-ROSE CLARK</td>\n",
       "      <td>ACTIVE</td>\n",
       "      <td>AUSTRALIA</td>\n",
       "      <td>CSA GYM</td>\n",
       "      <td>FREESTYLE</td>\n",
       "      <td>34.0</td>\n",
       "      <td>65.0</td>\n",
       "      <td>135.5</td>\n",
       "      <td>NOV. 18, 2017</td>\n",
       "      <td>64.5</td>\n",
       "      <td>39.0</td>\n",
       "      <td>Australia</td>\n",
       "      <td>11</td>\n",
       "      <td>7</td>\n",
       "      <td>0</td>\n",
       "    </tr>\n",
       "    <tr>\n",
       "      <th>4</th>\n",
       "      <td>JIMMY CRUTE</td>\n",
       "      <td>ACTIVE</td>\n",
       "      <td>SINGLETON, AUSTRALIA</td>\n",
       "      <td>THE RESISTANCE TRAINING CENTER</td>\n",
       "      <td>MMA</td>\n",
       "      <td>26.0</td>\n",
       "      <td>74.0</td>\n",
       "      <td>205.5</td>\n",
       "      <td>DEC. 02, 2018</td>\n",
       "      <td>74.0</td>\n",
       "      <td>43.0</td>\n",
       "      <td>Australia</td>\n",
       "      <td>12</td>\n",
       "      <td>3</td>\n",
       "      <td>0</td>\n",
       "    </tr>\n",
       "  </tbody>\n",
       "</table>\n",
       "</div>"
      ],
      "text/plain": [
       "          FighterName  STATUS                          HOMETOWN  \\\n",
       "0      GUIDO CANNETTI  ACTIVE   SAN ANTONIO DE PADUA, ARGENTINA   \n",
       "1      SILVANA JUAREZ  ACTIVE  SAN MIGUEL DE TUCUMAN, ARGENTINA   \n",
       "2     ARMEN PETROSYAN  ACTIVE               KRASNOYARSK, RUSSIA   \n",
       "3  JESSICA-ROSE CLARK  ACTIVE                         AUSTRALIA   \n",
       "4         JIMMY CRUTE  ACTIVE              SINGLETON, AUSTRALIA   \n",
       "\n",
       "                        TRAINS AT FIGHTING STYLE   AGE  HEIGHT  WEIGHT  \\\n",
       "0                        TUAN MMA        STRIKER  42.0    66.0   136.0   \n",
       "1                      ENTRAM GYM        STRIKER  37.0    64.0   115.5   \n",
       "2                             NaN      MUAY THAI  31.0    75.0   194.0   \n",
       "3                         CSA GYM      FREESTYLE  34.0    65.0   135.5   \n",
       "4  THE RESISTANCE TRAINING CENTER            MMA  26.0    74.0   205.5   \n",
       "\n",
       "   OCTAGON DEBUT  REACH  LEG REACH    Country  Wins  Losses  Draws  \n",
       "0  NOV. 15, 2014   68.0       38.5  Argentina     9       7      0  \n",
       "1  OCT. 09, 2021   64.0       37.0  Argentina     6       4      0  \n",
       "2  FEB. 26, 2022   71.0       42.0    Armenia     7       1      0  \n",
       "3  NOV. 18, 2017   64.5       39.0  Australia    11       7      0  \n",
       "4  DEC. 02, 2018   74.0       43.0  Australia    12       3      0  "
      ]
     },
     "execution_count": 98,
     "metadata": {},
     "output_type": "execute_result"
    }
   ],
   "source": [
    "df_merge.head(5)"
   ]
  },
  {
   "cell_type": "code",
   "execution_count": 99,
   "id": "93606d5d-4ba1-4530-b9eb-11ae77c0c2c6",
   "metadata": {},
   "outputs": [
    {
     "name": "stdout",
     "output_type": "stream",
     "text": [
      "(682, 15)\n"
     ]
    }
   ],
   "source": [
    "print(df_merge.shape)"
   ]
  },
  {
   "cell_type": "code",
   "execution_count": 100,
   "id": "05a8a329-fa19-4a30-b226-23985a60fd55",
   "metadata": {},
   "outputs": [
    {
     "data": {
      "text/html": [
       "<div>\n",
       "<style scoped>\n",
       "    .dataframe tbody tr th:only-of-type {\n",
       "        vertical-align: middle;\n",
       "    }\n",
       "\n",
       "    .dataframe tbody tr th {\n",
       "        vertical-align: top;\n",
       "    }\n",
       "\n",
       "    .dataframe thead th {\n",
       "        text-align: right;\n",
       "    }\n",
       "</style>\n",
       "<table border=\"1\" class=\"dataframe\">\n",
       "  <thead>\n",
       "    <tr style=\"text-align: right;\">\n",
       "      <th></th>\n",
       "      <th>FighterName</th>\n",
       "      <th>STATUS</th>\n",
       "      <th>HOMETOWN</th>\n",
       "      <th>TRAINS AT</th>\n",
       "      <th>FIGHTING STYLE</th>\n",
       "      <th>AGE</th>\n",
       "      <th>HEIGHT</th>\n",
       "      <th>WEIGHT</th>\n",
       "      <th>OCTAGON DEBUT</th>\n",
       "      <th>REACH</th>\n",
       "      <th>LEG REACH</th>\n",
       "      <th>Country</th>\n",
       "      <th>Wins</th>\n",
       "      <th>Losses</th>\n",
       "      <th>Draws</th>\n",
       "    </tr>\n",
       "  </thead>\n",
       "  <tbody>\n",
       "    <tr>\n",
       "      <th>134</th>\n",
       "      <td>CIRYL GANE</td>\n",
       "      <td>ACTIVE</td>\n",
       "      <td>LA ROCHE-SUR-YON, VENDÉE, FRANCE</td>\n",
       "      <td>MMA FACTORY - PARIS, FRANCE</td>\n",
       "      <td>MUAY THAI</td>\n",
       "      <td>31.0</td>\n",
       "      <td>76.0</td>\n",
       "      <td>247.0</td>\n",
       "      <td>AUG. 10, 2019</td>\n",
       "      <td>81.0</td>\n",
       "      <td>42.0</td>\n",
       "      <td>France</td>\n",
       "      <td>10</td>\n",
       "      <td>1</td>\n",
       "      <td>0</td>\n",
       "    </tr>\n",
       "  </tbody>\n",
       "</table>\n",
       "</div>"
      ],
      "text/plain": [
       "    FighterName  STATUS                          HOMETOWN  \\\n",
       "134  CIRYL GANE  ACTIVE  LA ROCHE-SUR-YON, VENDÉE, FRANCE   \n",
       "\n",
       "                       TRAINS AT FIGHTING STYLE   AGE  HEIGHT  WEIGHT  \\\n",
       "134  MMA FACTORY - PARIS, FRANCE      MUAY THAI  31.0    76.0   247.0   \n",
       "\n",
       "     OCTAGON DEBUT  REACH  LEG REACH Country  Wins  Losses  Draws  \n",
       "134  AUG. 10, 2019   81.0       42.0  France    10       1      0  "
      ]
     },
     "execution_count": 100,
     "metadata": {},
     "output_type": "execute_result"
    }
   ],
   "source": [
    "# Not all HOMETOWN values have only one comma.\n",
    "df_merge.query('FighterName == \"CIRYL GANE\"')"
   ]
  },
  {
   "cell_type": "code",
   "execution_count": 101,
   "id": "2fd107c4-7b5d-4599-899a-ad21f498ebc7",
   "metadata": {
    "tags": []
   },
   "outputs": [
    {
     "data": {
      "text/html": [
       "<div>\n",
       "<style scoped>\n",
       "    .dataframe tbody tr th:only-of-type {\n",
       "        vertical-align: middle;\n",
       "    }\n",
       "\n",
       "    .dataframe tbody tr th {\n",
       "        vertical-align: top;\n",
       "    }\n",
       "\n",
       "    .dataframe thead th {\n",
       "        text-align: right;\n",
       "    }\n",
       "</style>\n",
       "<table border=\"1\" class=\"dataframe\">\n",
       "  <thead>\n",
       "    <tr style=\"text-align: right;\">\n",
       "      <th></th>\n",
       "      <th>FighterName</th>\n",
       "      <th>STATUS</th>\n",
       "      <th>HOMETOWN</th>\n",
       "      <th>TRAINS AT</th>\n",
       "      <th>FIGHTING STYLE</th>\n",
       "      <th>AGE</th>\n",
       "      <th>HEIGHT</th>\n",
       "      <th>WEIGHT</th>\n",
       "      <th>OCTAGON DEBUT</th>\n",
       "      <th>REACH</th>\n",
       "      <th>LEG REACH</th>\n",
       "      <th>Country</th>\n",
       "      <th>Wins</th>\n",
       "      <th>Losses</th>\n",
       "      <th>Draws</th>\n",
       "      <th>City</th>\n",
       "      <th>Country_Hometown</th>\n",
       "    </tr>\n",
       "  </thead>\n",
       "  <tbody>\n",
       "    <tr>\n",
       "      <th>0</th>\n",
       "      <td>GUIDO CANNETTI</td>\n",
       "      <td>ACTIVE</td>\n",
       "      <td>SAN ANTONIO DE PADUA, ARGENTINA</td>\n",
       "      <td>TUAN MMA</td>\n",
       "      <td>STRIKER</td>\n",
       "      <td>42.0</td>\n",
       "      <td>66.0</td>\n",
       "      <td>136.0</td>\n",
       "      <td>NOV. 15, 2014</td>\n",
       "      <td>68.0</td>\n",
       "      <td>38.5</td>\n",
       "      <td>Argentina</td>\n",
       "      <td>9</td>\n",
       "      <td>7</td>\n",
       "      <td>0</td>\n",
       "      <td>SAN ANTONIO DE PADUA</td>\n",
       "      <td>ARGENTINA</td>\n",
       "    </tr>\n",
       "    <tr>\n",
       "      <th>1</th>\n",
       "      <td>SILVANA JUAREZ</td>\n",
       "      <td>ACTIVE</td>\n",
       "      <td>SAN MIGUEL DE TUCUMAN, ARGENTINA</td>\n",
       "      <td>ENTRAM GYM</td>\n",
       "      <td>STRIKER</td>\n",
       "      <td>37.0</td>\n",
       "      <td>64.0</td>\n",
       "      <td>115.5</td>\n",
       "      <td>OCT. 09, 2021</td>\n",
       "      <td>64.0</td>\n",
       "      <td>37.0</td>\n",
       "      <td>Argentina</td>\n",
       "      <td>6</td>\n",
       "      <td>4</td>\n",
       "      <td>0</td>\n",
       "      <td>SAN MIGUEL DE TUCUMAN</td>\n",
       "      <td>ARGENTINA</td>\n",
       "    </tr>\n",
       "    <tr>\n",
       "      <th>2</th>\n",
       "      <td>ARMEN PETROSYAN</td>\n",
       "      <td>ACTIVE</td>\n",
       "      <td>KRASNOYARSK, RUSSIA</td>\n",
       "      <td>NaN</td>\n",
       "      <td>MUAY THAI</td>\n",
       "      <td>31.0</td>\n",
       "      <td>75.0</td>\n",
       "      <td>194.0</td>\n",
       "      <td>FEB. 26, 2022</td>\n",
       "      <td>71.0</td>\n",
       "      <td>42.0</td>\n",
       "      <td>Armenia</td>\n",
       "      <td>7</td>\n",
       "      <td>1</td>\n",
       "      <td>0</td>\n",
       "      <td>KRASNOYARSK</td>\n",
       "      <td>RUSSIA</td>\n",
       "    </tr>\n",
       "    <tr>\n",
       "      <th>3</th>\n",
       "      <td>JESSICA-ROSE CLARK</td>\n",
       "      <td>ACTIVE</td>\n",
       "      <td>AUSTRALIA</td>\n",
       "      <td>CSA GYM</td>\n",
       "      <td>FREESTYLE</td>\n",
       "      <td>34.0</td>\n",
       "      <td>65.0</td>\n",
       "      <td>135.5</td>\n",
       "      <td>NOV. 18, 2017</td>\n",
       "      <td>64.5</td>\n",
       "      <td>39.0</td>\n",
       "      <td>Australia</td>\n",
       "      <td>11</td>\n",
       "      <td>7</td>\n",
       "      <td>0</td>\n",
       "      <td>AUSTRALIA</td>\n",
       "      <td>None</td>\n",
       "    </tr>\n",
       "    <tr>\n",
       "      <th>4</th>\n",
       "      <td>JIMMY CRUTE</td>\n",
       "      <td>ACTIVE</td>\n",
       "      <td>SINGLETON, AUSTRALIA</td>\n",
       "      <td>THE RESISTANCE TRAINING CENTER</td>\n",
       "      <td>MMA</td>\n",
       "      <td>26.0</td>\n",
       "      <td>74.0</td>\n",
       "      <td>205.5</td>\n",
       "      <td>DEC. 02, 2018</td>\n",
       "      <td>74.0</td>\n",
       "      <td>43.0</td>\n",
       "      <td>Australia</td>\n",
       "      <td>12</td>\n",
       "      <td>3</td>\n",
       "      <td>0</td>\n",
       "      <td>SINGLETON</td>\n",
       "      <td>AUSTRALIA</td>\n",
       "    </tr>\n",
       "    <tr>\n",
       "      <th>5</th>\n",
       "      <td>JOSH CULIBAO</td>\n",
       "      <td>ACTIVE</td>\n",
       "      <td>SYDNEY, AUSTRALIA</td>\n",
       "      <td>IGOR MMA</td>\n",
       "      <td>FREESTYLE</td>\n",
       "      <td>27.0</td>\n",
       "      <td>70.0</td>\n",
       "      <td>146.0</td>\n",
       "      <td>FEB. 23, 2020</td>\n",
       "      <td>73.0</td>\n",
       "      <td>39.0</td>\n",
       "      <td>Australia</td>\n",
       "      <td>9</td>\n",
       "      <td>1</td>\n",
       "      <td>1</td>\n",
       "      <td>SYDNEY</td>\n",
       "      <td>AUSTRALIA</td>\n",
       "    </tr>\n",
       "    <tr>\n",
       "      <th>6</th>\n",
       "      <td>JACK DELLA MADDALENA</td>\n",
       "      <td>ACTIVE</td>\n",
       "      <td>AUSTRALIA</td>\n",
       "      <td>NaN</td>\n",
       "      <td>MMA</td>\n",
       "      <td>25.0</td>\n",
       "      <td>71.0</td>\n",
       "      <td>170.5</td>\n",
       "      <td>JAN. 22, 2022</td>\n",
       "      <td>73.0</td>\n",
       "      <td>40.5</td>\n",
       "      <td>Australia</td>\n",
       "      <td>11</td>\n",
       "      <td>2</td>\n",
       "      <td>0</td>\n",
       "      <td>AUSTRALIA</td>\n",
       "      <td>None</td>\n",
       "    </tr>\n",
       "    <tr>\n",
       "      <th>7</th>\n",
       "      <td>JACOB MALKOUN</td>\n",
       "      <td>ACTIVE</td>\n",
       "      <td>SYDNEY, AUSTRALIA</td>\n",
       "      <td>NaN</td>\n",
       "      <td>MMA</td>\n",
       "      <td>26.0</td>\n",
       "      <td>69.0</td>\n",
       "      <td>186.0</td>\n",
       "      <td>OCT. 24, 2020</td>\n",
       "      <td>73.0</td>\n",
       "      <td>38.0</td>\n",
       "      <td>Australia</td>\n",
       "      <td>6</td>\n",
       "      <td>1</td>\n",
       "      <td>0</td>\n",
       "      <td>SYDNEY</td>\n",
       "      <td>AUSTRALIA</td>\n",
       "    </tr>\n",
       "    <tr>\n",
       "      <th>8</th>\n",
       "      <td>JAKE MATTHEWS</td>\n",
       "      <td>ACTIVE</td>\n",
       "      <td>PRESTON, AUSTRALIA</td>\n",
       "      <td>XLR8 TRANING CENTRE, EPPING, VICTORIA, AUSTRALIA</td>\n",
       "      <td>FREESTYLE</td>\n",
       "      <td>27.0</td>\n",
       "      <td>71.5</td>\n",
       "      <td>170.0</td>\n",
       "      <td>JUN. 28, 2014</td>\n",
       "      <td>73.0</td>\n",
       "      <td>43.0</td>\n",
       "      <td>Australia</td>\n",
       "      <td>17</td>\n",
       "      <td>5</td>\n",
       "      <td>0</td>\n",
       "      <td>PRESTON</td>\n",
       "      <td>AUSTRALIA</td>\n",
       "    </tr>\n",
       "    <tr>\n",
       "      <th>9</th>\n",
       "      <td>JAMIE MULLARKEY</td>\n",
       "      <td>ACTIVE</td>\n",
       "      <td>CENTRAL COAST, AUSTRALIA</td>\n",
       "      <td>CENTRAL COAST MMA</td>\n",
       "      <td>FREESTYLE</td>\n",
       "      <td>27.0</td>\n",
       "      <td>72.0</td>\n",
       "      <td>155.5</td>\n",
       "      <td>OCT. 05, 2019</td>\n",
       "      <td>74.0</td>\n",
       "      <td>39.0</td>\n",
       "      <td>Australia</td>\n",
       "      <td>14</td>\n",
       "      <td>5</td>\n",
       "      <td>0</td>\n",
       "      <td>CENTRAL COAST</td>\n",
       "      <td>AUSTRALIA</td>\n",
       "    </tr>\n",
       "  </tbody>\n",
       "</table>\n",
       "</div>"
      ],
      "text/plain": [
       "            FighterName  STATUS                          HOMETOWN  \\\n",
       "0        GUIDO CANNETTI  ACTIVE   SAN ANTONIO DE PADUA, ARGENTINA   \n",
       "1        SILVANA JUAREZ  ACTIVE  SAN MIGUEL DE TUCUMAN, ARGENTINA   \n",
       "2       ARMEN PETROSYAN  ACTIVE               KRASNOYARSK, RUSSIA   \n",
       "3    JESSICA-ROSE CLARK  ACTIVE                         AUSTRALIA   \n",
       "4           JIMMY CRUTE  ACTIVE              SINGLETON, AUSTRALIA   \n",
       "5          JOSH CULIBAO  ACTIVE                 SYDNEY, AUSTRALIA   \n",
       "6  JACK DELLA MADDALENA  ACTIVE                         AUSTRALIA   \n",
       "7         JACOB MALKOUN  ACTIVE                 SYDNEY, AUSTRALIA   \n",
       "8         JAKE MATTHEWS  ACTIVE                PRESTON, AUSTRALIA   \n",
       "9       JAMIE MULLARKEY  ACTIVE          CENTRAL COAST, AUSTRALIA   \n",
       "\n",
       "                                          TRAINS AT FIGHTING STYLE   AGE  \\\n",
       "0                                          TUAN MMA        STRIKER  42.0   \n",
       "1                                        ENTRAM GYM        STRIKER  37.0   \n",
       "2                                               NaN      MUAY THAI  31.0   \n",
       "3                                           CSA GYM      FREESTYLE  34.0   \n",
       "4                    THE RESISTANCE TRAINING CENTER            MMA  26.0   \n",
       "5                                          IGOR MMA      FREESTYLE  27.0   \n",
       "6                                               NaN            MMA  25.0   \n",
       "7                                               NaN            MMA  26.0   \n",
       "8  XLR8 TRANING CENTRE, EPPING, VICTORIA, AUSTRALIA      FREESTYLE  27.0   \n",
       "9                                 CENTRAL COAST MMA      FREESTYLE  27.0   \n",
       "\n",
       "   HEIGHT  WEIGHT  OCTAGON DEBUT  REACH  LEG REACH    Country  Wins  Losses  \\\n",
       "0    66.0   136.0  NOV. 15, 2014   68.0       38.5  Argentina     9       7   \n",
       "1    64.0   115.5  OCT. 09, 2021   64.0       37.0  Argentina     6       4   \n",
       "2    75.0   194.0  FEB. 26, 2022   71.0       42.0    Armenia     7       1   \n",
       "3    65.0   135.5  NOV. 18, 2017   64.5       39.0  Australia    11       7   \n",
       "4    74.0   205.5  DEC. 02, 2018   74.0       43.0  Australia    12       3   \n",
       "5    70.0   146.0  FEB. 23, 2020   73.0       39.0  Australia     9       1   \n",
       "6    71.0   170.5  JAN. 22, 2022   73.0       40.5  Australia    11       2   \n",
       "7    69.0   186.0  OCT. 24, 2020   73.0       38.0  Australia     6       1   \n",
       "8    71.5   170.0  JUN. 28, 2014   73.0       43.0  Australia    17       5   \n",
       "9    72.0   155.5  OCT. 05, 2019   74.0       39.0  Australia    14       5   \n",
       "\n",
       "   Draws                   City Country_Hometown  \n",
       "0      0   SAN ANTONIO DE PADUA        ARGENTINA  \n",
       "1      0  SAN MIGUEL DE TUCUMAN        ARGENTINA  \n",
       "2      0            KRASNOYARSK           RUSSIA  \n",
       "3      0              AUSTRALIA             None  \n",
       "4      0              SINGLETON        AUSTRALIA  \n",
       "5      1                 SYDNEY        AUSTRALIA  \n",
       "6      0              AUSTRALIA             None  \n",
       "7      0                 SYDNEY        AUSTRALIA  \n",
       "8      0                PRESTON        AUSTRALIA  \n",
       "9      0          CENTRAL COAST        AUSTRALIA  "
      ]
     },
     "execution_count": 101,
     "metadata": {},
     "output_type": "execute_result"
    }
   ],
   "source": [
    "df_merge['HOMETOWN'].fillna('NULL', inplace=True)\n",
    "df_merge[['City', 'Country_Hometown']] = df_merge['HOMETOWN'].str.split(\",\", expand=True, n=1).copy()\n",
    "df_merge.head(10)"
   ]
  },
  {
   "cell_type": "code",
   "execution_count": 102,
   "id": "5ce62003-0b2d-4c49-95ec-c66851849338",
   "metadata": {},
   "outputs": [
    {
     "data": {
      "text/html": [
       "<div>\n",
       "<style scoped>\n",
       "    .dataframe tbody tr th:only-of-type {\n",
       "        vertical-align: middle;\n",
       "    }\n",
       "\n",
       "    .dataframe tbody tr th {\n",
       "        vertical-align: top;\n",
       "    }\n",
       "\n",
       "    .dataframe thead th {\n",
       "        text-align: right;\n",
       "    }\n",
       "</style>\n",
       "<table border=\"1\" class=\"dataframe\">\n",
       "  <thead>\n",
       "    <tr style=\"text-align: right;\">\n",
       "      <th></th>\n",
       "      <th>FighterName</th>\n",
       "      <th>STATUS</th>\n",
       "      <th>HOMETOWN</th>\n",
       "      <th>TRAINS AT</th>\n",
       "      <th>FIGHTING STYLE</th>\n",
       "      <th>AGE</th>\n",
       "      <th>HEIGHT</th>\n",
       "      <th>WEIGHT</th>\n",
       "      <th>OCTAGON DEBUT</th>\n",
       "      <th>REACH</th>\n",
       "      <th>LEG REACH</th>\n",
       "      <th>Country</th>\n",
       "      <th>Wins</th>\n",
       "      <th>Losses</th>\n",
       "      <th>Draws</th>\n",
       "      <th>City</th>\n",
       "      <th>Country_Hometown</th>\n",
       "    </tr>\n",
       "  </thead>\n",
       "  <tbody>\n",
       "    <tr>\n",
       "      <th>134</th>\n",
       "      <td>CIRYL GANE</td>\n",
       "      <td>ACTIVE</td>\n",
       "      <td>LA ROCHE-SUR-YON, VENDÉE, FRANCE</td>\n",
       "      <td>MMA FACTORY - PARIS, FRANCE</td>\n",
       "      <td>MUAY THAI</td>\n",
       "      <td>31.0</td>\n",
       "      <td>76.0</td>\n",
       "      <td>247.0</td>\n",
       "      <td>AUG. 10, 2019</td>\n",
       "      <td>81.0</td>\n",
       "      <td>42.0</td>\n",
       "      <td>France</td>\n",
       "      <td>10</td>\n",
       "      <td>1</td>\n",
       "      <td>0</td>\n",
       "      <td>LA ROCHE-SUR-YON</td>\n",
       "      <td>VENDÉE, FRANCE</td>\n",
       "    </tr>\n",
       "  </tbody>\n",
       "</table>\n",
       "</div>"
      ],
      "text/plain": [
       "    FighterName  STATUS                          HOMETOWN  \\\n",
       "134  CIRYL GANE  ACTIVE  LA ROCHE-SUR-YON, VENDÉE, FRANCE   \n",
       "\n",
       "                       TRAINS AT FIGHTING STYLE   AGE  HEIGHT  WEIGHT  \\\n",
       "134  MMA FACTORY - PARIS, FRANCE      MUAY THAI  31.0    76.0   247.0   \n",
       "\n",
       "     OCTAGON DEBUT  REACH  LEG REACH Country  Wins  Losses  Draws  \\\n",
       "134  AUG. 10, 2019   81.0       42.0  France    10       1      0   \n",
       "\n",
       "                 City Country_Hometown  \n",
       "134  LA ROCHE-SUR-YON   VENDÉE, FRANCE  "
      ]
     },
     "execution_count": 102,
     "metadata": {},
     "output_type": "execute_result"
    }
   ],
   "source": [
    "df_merge.query('FighterName == \"CIRYL GANE\"')"
   ]
  },
  {
   "cell_type": "code",
   "execution_count": 103,
   "id": "9e3aed50-6f0e-4e46-aab3-c2bf720a0672",
   "metadata": {},
   "outputs": [
    {
     "name": "stdout",
     "output_type": "stream",
     "text": [
      "(682, 17)\n"
     ]
    }
   ],
   "source": [
    "print(df_merge.shape)"
   ]
  },
  {
   "cell_type": "markdown",
   "id": "64c480a9-3015-45bb-9f91-2bb409032e78",
   "metadata": {},
   "source": [
    "<font size=\"5\">Obtain Alpha_3 Country code column.</font>"
   ]
  },
  {
   "cell_type": "code",
   "execution_count": 104,
   "id": "0d16593c-3b48-4b72-b862-80a5f25724a5",
   "metadata": {},
   "outputs": [
    {
     "data": {
      "text/html": [
       "<div>\n",
       "<style scoped>\n",
       "    .dataframe tbody tr th:only-of-type {\n",
       "        vertical-align: middle;\n",
       "    }\n",
       "\n",
       "    .dataframe tbody tr th {\n",
       "        vertical-align: top;\n",
       "    }\n",
       "\n",
       "    .dataframe thead th {\n",
       "        text-align: right;\n",
       "    }\n",
       "</style>\n",
       "<table border=\"1\" class=\"dataframe\">\n",
       "  <thead>\n",
       "    <tr style=\"text-align: right;\">\n",
       "      <th></th>\n",
       "      <th>Country</th>\n",
       "      <th>Alpha_3_Code</th>\n",
       "    </tr>\n",
       "  </thead>\n",
       "  <tbody>\n",
       "    <tr>\n",
       "      <th>0</th>\n",
       "      <td>Argentina</td>\n",
       "      <td>ARG</td>\n",
       "    </tr>\n",
       "    <tr>\n",
       "      <th>1</th>\n",
       "      <td>Armenia</td>\n",
       "      <td>ARM</td>\n",
       "    </tr>\n",
       "    <tr>\n",
       "      <th>2</th>\n",
       "      <td>Australia</td>\n",
       "      <td>AUS</td>\n",
       "    </tr>\n",
       "    <tr>\n",
       "      <th>3</th>\n",
       "      <td>Austria</td>\n",
       "      <td>AUT</td>\n",
       "    </tr>\n",
       "    <tr>\n",
       "      <th>4</th>\n",
       "      <td>Brazil</td>\n",
       "      <td>BRA</td>\n",
       "    </tr>\n",
       "    <tr>\n",
       "      <th>5</th>\n",
       "      <td>Bulgaria</td>\n",
       "      <td>BGR</td>\n",
       "    </tr>\n",
       "    <tr>\n",
       "      <th>6</th>\n",
       "      <td>Canada</td>\n",
       "      <td>CAN</td>\n",
       "    </tr>\n",
       "    <tr>\n",
       "      <th>7</th>\n",
       "      <td>China</td>\n",
       "      <td>CHN</td>\n",
       "    </tr>\n",
       "    <tr>\n",
       "      <th>8</th>\n",
       "      <td>Czechia</td>\n",
       "      <td>CZE</td>\n",
       "    </tr>\n",
       "    <tr>\n",
       "      <th>9</th>\n",
       "      <td>Denmark</td>\n",
       "      <td>DNK</td>\n",
       "    </tr>\n",
       "  </tbody>\n",
       "</table>\n",
       "</div>"
      ],
      "text/plain": [
       "     Country Alpha_3_Code\n",
       "0  Argentina          ARG\n",
       "1    Armenia          ARM\n",
       "2  Australia          AUS\n",
       "3    Austria          AUT\n",
       "4     Brazil          BRA\n",
       "5   Bulgaria          BGR\n",
       "6     Canada          CAN\n",
       "7      China          CHN\n",
       "8    Czechia          CZE\n",
       "9    Denmark          DNK"
      ]
     },
     "execution_count": 104,
     "metadata": {},
     "output_type": "execute_result"
    }
   ],
   "source": [
    "country_alpha_3 = {country: None for country in list(df_merge['Country'])}\n",
    "for country in list(df_merge['Country']):\n",
    "    alpha_3 = pycountry_convert.country_name_to_country_alpha3(country)\n",
    "    country_alpha_3[country] = alpha_3\n",
    "\n",
    "# print(country_alpha_3)\n",
    "# print(list(country_alpha_3.values()))\n",
    "df_country_code_table = pd.DataFrame(data={'Country': list(country_alpha_3.keys()), 'Alpha_3_Code': list(country_alpha_3.values())})\n",
    "# print(country_alpha_3)\n",
    "df_country_code_table.head(10)"
   ]
  },
  {
   "cell_type": "code",
   "execution_count": 105,
   "id": "94412515-a890-4a0b-961d-8214066cdc4c",
   "metadata": {},
   "outputs": [
    {
     "name": "stdout",
     "output_type": "stream",
     "text": [
      "(682, 18)\n"
     ]
    }
   ],
   "source": [
    "df_merge = pd.merge(df_merge, df_country_code_table, on=['Country'], how='inner')\n",
    "print(df_merge.shape)"
   ]
  },
  {
   "cell_type": "code",
   "execution_count": 106,
   "id": "acb24554-20b9-4291-b24f-a55f562ec2c3",
   "metadata": {},
   "outputs": [
    {
     "data": {
      "text/html": [
       "<div>\n",
       "<style scoped>\n",
       "    .dataframe tbody tr th:only-of-type {\n",
       "        vertical-align: middle;\n",
       "    }\n",
       "\n",
       "    .dataframe tbody tr th {\n",
       "        vertical-align: top;\n",
       "    }\n",
       "\n",
       "    .dataframe thead th {\n",
       "        text-align: right;\n",
       "    }\n",
       "</style>\n",
       "<table border=\"1\" class=\"dataframe\">\n",
       "  <thead>\n",
       "    <tr style=\"text-align: right;\">\n",
       "      <th></th>\n",
       "      <th>FighterName</th>\n",
       "      <th>STATUS</th>\n",
       "      <th>HOMETOWN</th>\n",
       "      <th>TRAINS AT</th>\n",
       "      <th>FIGHTING STYLE</th>\n",
       "      <th>AGE</th>\n",
       "      <th>HEIGHT</th>\n",
       "      <th>WEIGHT</th>\n",
       "      <th>OCTAGON DEBUT</th>\n",
       "      <th>REACH</th>\n",
       "      <th>LEG REACH</th>\n",
       "      <th>Country</th>\n",
       "      <th>Wins</th>\n",
       "      <th>Losses</th>\n",
       "      <th>Draws</th>\n",
       "      <th>City</th>\n",
       "      <th>Country_Hometown</th>\n",
       "      <th>Alpha_3_Code</th>\n",
       "    </tr>\n",
       "  </thead>\n",
       "  <tbody>\n",
       "    <tr>\n",
       "      <th>0</th>\n",
       "      <td>GUIDO CANNETTI</td>\n",
       "      <td>ACTIVE</td>\n",
       "      <td>SAN ANTONIO DE PADUA, ARGENTINA</td>\n",
       "      <td>TUAN MMA</td>\n",
       "      <td>STRIKER</td>\n",
       "      <td>42.0</td>\n",
       "      <td>66.0</td>\n",
       "      <td>136.0</td>\n",
       "      <td>NOV. 15, 2014</td>\n",
       "      <td>68.0</td>\n",
       "      <td>38.5</td>\n",
       "      <td>Argentina</td>\n",
       "      <td>9</td>\n",
       "      <td>7</td>\n",
       "      <td>0</td>\n",
       "      <td>SAN ANTONIO DE PADUA</td>\n",
       "      <td>ARGENTINA</td>\n",
       "      <td>ARG</td>\n",
       "    </tr>\n",
       "    <tr>\n",
       "      <th>1</th>\n",
       "      <td>SILVANA JUAREZ</td>\n",
       "      <td>ACTIVE</td>\n",
       "      <td>SAN MIGUEL DE TUCUMAN, ARGENTINA</td>\n",
       "      <td>ENTRAM GYM</td>\n",
       "      <td>STRIKER</td>\n",
       "      <td>37.0</td>\n",
       "      <td>64.0</td>\n",
       "      <td>115.5</td>\n",
       "      <td>OCT. 09, 2021</td>\n",
       "      <td>64.0</td>\n",
       "      <td>37.0</td>\n",
       "      <td>Argentina</td>\n",
       "      <td>6</td>\n",
       "      <td>4</td>\n",
       "      <td>0</td>\n",
       "      <td>SAN MIGUEL DE TUCUMAN</td>\n",
       "      <td>ARGENTINA</td>\n",
       "      <td>ARG</td>\n",
       "    </tr>\n",
       "    <tr>\n",
       "      <th>2</th>\n",
       "      <td>ARMEN PETROSYAN</td>\n",
       "      <td>ACTIVE</td>\n",
       "      <td>KRASNOYARSK, RUSSIA</td>\n",
       "      <td>NaN</td>\n",
       "      <td>MUAY THAI</td>\n",
       "      <td>31.0</td>\n",
       "      <td>75.0</td>\n",
       "      <td>194.0</td>\n",
       "      <td>FEB. 26, 2022</td>\n",
       "      <td>71.0</td>\n",
       "      <td>42.0</td>\n",
       "      <td>Armenia</td>\n",
       "      <td>7</td>\n",
       "      <td>1</td>\n",
       "      <td>0</td>\n",
       "      <td>KRASNOYARSK</td>\n",
       "      <td>RUSSIA</td>\n",
       "      <td>ARM</td>\n",
       "    </tr>\n",
       "    <tr>\n",
       "      <th>3</th>\n",
       "      <td>JESSICA-ROSE CLARK</td>\n",
       "      <td>ACTIVE</td>\n",
       "      <td>AUSTRALIA</td>\n",
       "      <td>CSA GYM</td>\n",
       "      <td>FREESTYLE</td>\n",
       "      <td>34.0</td>\n",
       "      <td>65.0</td>\n",
       "      <td>135.5</td>\n",
       "      <td>NOV. 18, 2017</td>\n",
       "      <td>64.5</td>\n",
       "      <td>39.0</td>\n",
       "      <td>Australia</td>\n",
       "      <td>11</td>\n",
       "      <td>7</td>\n",
       "      <td>0</td>\n",
       "      <td>AUSTRALIA</td>\n",
       "      <td>None</td>\n",
       "      <td>AUS</td>\n",
       "    </tr>\n",
       "    <tr>\n",
       "      <th>4</th>\n",
       "      <td>JIMMY CRUTE</td>\n",
       "      <td>ACTIVE</td>\n",
       "      <td>SINGLETON, AUSTRALIA</td>\n",
       "      <td>THE RESISTANCE TRAINING CENTER</td>\n",
       "      <td>MMA</td>\n",
       "      <td>26.0</td>\n",
       "      <td>74.0</td>\n",
       "      <td>205.5</td>\n",
       "      <td>DEC. 02, 2018</td>\n",
       "      <td>74.0</td>\n",
       "      <td>43.0</td>\n",
       "      <td>Australia</td>\n",
       "      <td>12</td>\n",
       "      <td>3</td>\n",
       "      <td>0</td>\n",
       "      <td>SINGLETON</td>\n",
       "      <td>AUSTRALIA</td>\n",
       "      <td>AUS</td>\n",
       "    </tr>\n",
       "    <tr>\n",
       "      <th>5</th>\n",
       "      <td>JOSH CULIBAO</td>\n",
       "      <td>ACTIVE</td>\n",
       "      <td>SYDNEY, AUSTRALIA</td>\n",
       "      <td>IGOR MMA</td>\n",
       "      <td>FREESTYLE</td>\n",
       "      <td>27.0</td>\n",
       "      <td>70.0</td>\n",
       "      <td>146.0</td>\n",
       "      <td>FEB. 23, 2020</td>\n",
       "      <td>73.0</td>\n",
       "      <td>39.0</td>\n",
       "      <td>Australia</td>\n",
       "      <td>9</td>\n",
       "      <td>1</td>\n",
       "      <td>1</td>\n",
       "      <td>SYDNEY</td>\n",
       "      <td>AUSTRALIA</td>\n",
       "      <td>AUS</td>\n",
       "    </tr>\n",
       "    <tr>\n",
       "      <th>6</th>\n",
       "      <td>JACK DELLA MADDALENA</td>\n",
       "      <td>ACTIVE</td>\n",
       "      <td>AUSTRALIA</td>\n",
       "      <td>NaN</td>\n",
       "      <td>MMA</td>\n",
       "      <td>25.0</td>\n",
       "      <td>71.0</td>\n",
       "      <td>170.5</td>\n",
       "      <td>JAN. 22, 2022</td>\n",
       "      <td>73.0</td>\n",
       "      <td>40.5</td>\n",
       "      <td>Australia</td>\n",
       "      <td>11</td>\n",
       "      <td>2</td>\n",
       "      <td>0</td>\n",
       "      <td>AUSTRALIA</td>\n",
       "      <td>None</td>\n",
       "      <td>AUS</td>\n",
       "    </tr>\n",
       "    <tr>\n",
       "      <th>7</th>\n",
       "      <td>JACOB MALKOUN</td>\n",
       "      <td>ACTIVE</td>\n",
       "      <td>SYDNEY, AUSTRALIA</td>\n",
       "      <td>NaN</td>\n",
       "      <td>MMA</td>\n",
       "      <td>26.0</td>\n",
       "      <td>69.0</td>\n",
       "      <td>186.0</td>\n",
       "      <td>OCT. 24, 2020</td>\n",
       "      <td>73.0</td>\n",
       "      <td>38.0</td>\n",
       "      <td>Australia</td>\n",
       "      <td>6</td>\n",
       "      <td>1</td>\n",
       "      <td>0</td>\n",
       "      <td>SYDNEY</td>\n",
       "      <td>AUSTRALIA</td>\n",
       "      <td>AUS</td>\n",
       "    </tr>\n",
       "    <tr>\n",
       "      <th>8</th>\n",
       "      <td>JAKE MATTHEWS</td>\n",
       "      <td>ACTIVE</td>\n",
       "      <td>PRESTON, AUSTRALIA</td>\n",
       "      <td>XLR8 TRANING CENTRE, EPPING, VICTORIA, AUSTRALIA</td>\n",
       "      <td>FREESTYLE</td>\n",
       "      <td>27.0</td>\n",
       "      <td>71.5</td>\n",
       "      <td>170.0</td>\n",
       "      <td>JUN. 28, 2014</td>\n",
       "      <td>73.0</td>\n",
       "      <td>43.0</td>\n",
       "      <td>Australia</td>\n",
       "      <td>17</td>\n",
       "      <td>5</td>\n",
       "      <td>0</td>\n",
       "      <td>PRESTON</td>\n",
       "      <td>AUSTRALIA</td>\n",
       "      <td>AUS</td>\n",
       "    </tr>\n",
       "    <tr>\n",
       "      <th>9</th>\n",
       "      <td>JAMIE MULLARKEY</td>\n",
       "      <td>ACTIVE</td>\n",
       "      <td>CENTRAL COAST, AUSTRALIA</td>\n",
       "      <td>CENTRAL COAST MMA</td>\n",
       "      <td>FREESTYLE</td>\n",
       "      <td>27.0</td>\n",
       "      <td>72.0</td>\n",
       "      <td>155.5</td>\n",
       "      <td>OCT. 05, 2019</td>\n",
       "      <td>74.0</td>\n",
       "      <td>39.0</td>\n",
       "      <td>Australia</td>\n",
       "      <td>14</td>\n",
       "      <td>5</td>\n",
       "      <td>0</td>\n",
       "      <td>CENTRAL COAST</td>\n",
       "      <td>AUSTRALIA</td>\n",
       "      <td>AUS</td>\n",
       "    </tr>\n",
       "  </tbody>\n",
       "</table>\n",
       "</div>"
      ],
      "text/plain": [
       "            FighterName  STATUS                          HOMETOWN  \\\n",
       "0        GUIDO CANNETTI  ACTIVE   SAN ANTONIO DE PADUA, ARGENTINA   \n",
       "1        SILVANA JUAREZ  ACTIVE  SAN MIGUEL DE TUCUMAN, ARGENTINA   \n",
       "2       ARMEN PETROSYAN  ACTIVE               KRASNOYARSK, RUSSIA   \n",
       "3    JESSICA-ROSE CLARK  ACTIVE                         AUSTRALIA   \n",
       "4           JIMMY CRUTE  ACTIVE              SINGLETON, AUSTRALIA   \n",
       "5          JOSH CULIBAO  ACTIVE                 SYDNEY, AUSTRALIA   \n",
       "6  JACK DELLA MADDALENA  ACTIVE                         AUSTRALIA   \n",
       "7         JACOB MALKOUN  ACTIVE                 SYDNEY, AUSTRALIA   \n",
       "8         JAKE MATTHEWS  ACTIVE                PRESTON, AUSTRALIA   \n",
       "9       JAMIE MULLARKEY  ACTIVE          CENTRAL COAST, AUSTRALIA   \n",
       "\n",
       "                                          TRAINS AT FIGHTING STYLE   AGE  \\\n",
       "0                                          TUAN MMA        STRIKER  42.0   \n",
       "1                                        ENTRAM GYM        STRIKER  37.0   \n",
       "2                                               NaN      MUAY THAI  31.0   \n",
       "3                                           CSA GYM      FREESTYLE  34.0   \n",
       "4                    THE RESISTANCE TRAINING CENTER            MMA  26.0   \n",
       "5                                          IGOR MMA      FREESTYLE  27.0   \n",
       "6                                               NaN            MMA  25.0   \n",
       "7                                               NaN            MMA  26.0   \n",
       "8  XLR8 TRANING CENTRE, EPPING, VICTORIA, AUSTRALIA      FREESTYLE  27.0   \n",
       "9                                 CENTRAL COAST MMA      FREESTYLE  27.0   \n",
       "\n",
       "   HEIGHT  WEIGHT  OCTAGON DEBUT  REACH  LEG REACH    Country  Wins  Losses  \\\n",
       "0    66.0   136.0  NOV. 15, 2014   68.0       38.5  Argentina     9       7   \n",
       "1    64.0   115.5  OCT. 09, 2021   64.0       37.0  Argentina     6       4   \n",
       "2    75.0   194.0  FEB. 26, 2022   71.0       42.0    Armenia     7       1   \n",
       "3    65.0   135.5  NOV. 18, 2017   64.5       39.0  Australia    11       7   \n",
       "4    74.0   205.5  DEC. 02, 2018   74.0       43.0  Australia    12       3   \n",
       "5    70.0   146.0  FEB. 23, 2020   73.0       39.0  Australia     9       1   \n",
       "6    71.0   170.5  JAN. 22, 2022   73.0       40.5  Australia    11       2   \n",
       "7    69.0   186.0  OCT. 24, 2020   73.0       38.0  Australia     6       1   \n",
       "8    71.5   170.0  JUN. 28, 2014   73.0       43.0  Australia    17       5   \n",
       "9    72.0   155.5  OCT. 05, 2019   74.0       39.0  Australia    14       5   \n",
       "\n",
       "   Draws                   City Country_Hometown Alpha_3_Code  \n",
       "0      0   SAN ANTONIO DE PADUA        ARGENTINA          ARG  \n",
       "1      0  SAN MIGUEL DE TUCUMAN        ARGENTINA          ARG  \n",
       "2      0            KRASNOYARSK           RUSSIA          ARM  \n",
       "3      0              AUSTRALIA             None          AUS  \n",
       "4      0              SINGLETON        AUSTRALIA          AUS  \n",
       "5      1                 SYDNEY        AUSTRALIA          AUS  \n",
       "6      0              AUSTRALIA             None          AUS  \n",
       "7      0                 SYDNEY        AUSTRALIA          AUS  \n",
       "8      0                PRESTON        AUSTRALIA          AUS  \n",
       "9      0          CENTRAL COAST        AUSTRALIA          AUS  "
      ]
     },
     "execution_count": 106,
     "metadata": {},
     "output_type": "execute_result"
    }
   ],
   "source": [
    "df_merge.head(10)"
   ]
  },
  {
   "cell_type": "code",
   "execution_count": null,
   "id": "0593a06d-d568-4b4a-b24e-f4927ef484b2",
   "metadata": {},
   "outputs": [],
   "source": []
  },
  {
   "cell_type": "code",
   "execution_count": 107,
   "id": "7805a98e-3443-414f-baef-b05ca029cf14",
   "metadata": {},
   "outputs": [],
   "source": [
    "# Website with a 3 letter country codes table.\n",
    "# country_table_list = pd.read_html('https://laendercode.net/en/3-letter-list.html')\n",
    "# country_table = country_table_list[0]\n",
    "# country_table.head(10)"
   ]
  },
  {
   "cell_type": "code",
   "execution_count": 108,
   "id": "9f1f7a6d-3183-4b19-b512-9219c4e2cbe7",
   "metadata": {},
   "outputs": [],
   "source": [
    "with pd.ExcelWriter('df_merge.xlsx') as writer:\n",
    "    df_merge.to_excel(writer, sheet_name='merged', index=False)"
   ]
  },
  {
   "cell_type": "code",
   "execution_count": 109,
   "id": "6f1f0ee9-9596-40c9-ae30-fcfb294fcd6f",
   "metadata": {},
   "outputs": [
    {
     "name": "stdout",
     "output_type": "stream",
     "text": [
      "<class 'pandas.core.frame.DataFrame'>\n"
     ]
    },
    {
     "data": {
      "text/html": [
       "<div>\n",
       "<style scoped>\n",
       "    .dataframe tbody tr th:only-of-type {\n",
       "        vertical-align: middle;\n",
       "    }\n",
       "\n",
       "    .dataframe tbody tr th {\n",
       "        vertical-align: top;\n",
       "    }\n",
       "\n",
       "    .dataframe thead th {\n",
       "        text-align: right;\n",
       "    }\n",
       "</style>\n",
       "<table border=\"1\" class=\"dataframe\">\n",
       "  <thead>\n",
       "    <tr style=\"text-align: right;\">\n",
       "      <th></th>\n",
       "      <th>Country</th>\n",
       "      <th>Alpha_3_Code</th>\n",
       "      <th>AGE</th>\n",
       "      <th>HEIGHT</th>\n",
       "      <th>WEIGHT</th>\n",
       "      <th>REACH</th>\n",
       "      <th>LEG REACH</th>\n",
       "      <th>Wins</th>\n",
       "      <th>Losses</th>\n",
       "      <th>Draws</th>\n",
       "    </tr>\n",
       "  </thead>\n",
       "  <tbody>\n",
       "    <tr>\n",
       "      <th>0</th>\n",
       "      <td>Argentina</td>\n",
       "      <td>ARG</td>\n",
       "      <td>79.0</td>\n",
       "      <td>130.0</td>\n",
       "      <td>251.5</td>\n",
       "      <td>132.0</td>\n",
       "      <td>75.5</td>\n",
       "      <td>15</td>\n",
       "      <td>11</td>\n",
       "      <td>0</td>\n",
       "    </tr>\n",
       "    <tr>\n",
       "      <th>1</th>\n",
       "      <td>Armenia</td>\n",
       "      <td>ARM</td>\n",
       "      <td>31.0</td>\n",
       "      <td>75.0</td>\n",
       "      <td>194.0</td>\n",
       "      <td>71.0</td>\n",
       "      <td>42.0</td>\n",
       "      <td>7</td>\n",
       "      <td>1</td>\n",
       "      <td>0</td>\n",
       "    </tr>\n",
       "    <tr>\n",
       "      <th>2</th>\n",
       "      <td>Australia</td>\n",
       "      <td>AUS</td>\n",
       "      <td>367.0</td>\n",
       "      <td>917.5</td>\n",
       "      <td>2375.5</td>\n",
       "      <td>946.5</td>\n",
       "      <td>520.5</td>\n",
       "      <td>164</td>\n",
       "      <td>40</td>\n",
       "      <td>1</td>\n",
       "    </tr>\n",
       "    <tr>\n",
       "      <th>3</th>\n",
       "      <td>Austria</td>\n",
       "      <td>AUT</td>\n",
       "      <td>30.0</td>\n",
       "      <td>76.0</td>\n",
       "      <td>206.0</td>\n",
       "      <td>78.0</td>\n",
       "      <td>46.0</td>\n",
       "      <td>14</td>\n",
       "      <td>2</td>\n",
       "      <td>0</td>\n",
       "    </tr>\n",
       "    <tr>\n",
       "      <th>4</th>\n",
       "      <td>Brazil</td>\n",
       "      <td>BRA</td>\n",
       "      <td>2376.0</td>\n",
       "      <td>5160.0</td>\n",
       "      <td>11366.4</td>\n",
       "      <td>4752.0</td>\n",
       "      <td>2658.0</td>\n",
       "      <td>1062</td>\n",
       "      <td>301</td>\n",
       "      <td>19</td>\n",
       "    </tr>\n",
       "    <tr>\n",
       "      <th>5</th>\n",
       "      <td>Bulgaria</td>\n",
       "      <td>BGR</td>\n",
       "      <td>35.0</td>\n",
       "      <td>71.0</td>\n",
       "      <td>255.5</td>\n",
       "      <td>73.0</td>\n",
       "      <td>42.0</td>\n",
       "      <td>18</td>\n",
       "      <td>4</td>\n",
       "      <td>0</td>\n",
       "    </tr>\n",
       "    <tr>\n",
       "      <th>6</th>\n",
       "      <td>Canada</td>\n",
       "      <td>CAN</td>\n",
       "      <td>574.0</td>\n",
       "      <td>1240.5</td>\n",
       "      <td>27985.5</td>\n",
       "      <td>1250.0</td>\n",
       "      <td>707.5</td>\n",
       "      <td>226</td>\n",
       "      <td>83</td>\n",
       "      <td>4</td>\n",
       "    </tr>\n",
       "    <tr>\n",
       "      <th>7</th>\n",
       "      <td>China</td>\n",
       "      <td>CHN</td>\n",
       "      <td>336.0</td>\n",
       "      <td>811.0</td>\n",
       "      <td>1661.0</td>\n",
       "      <td>815.5</td>\n",
       "      <td>419.0</td>\n",
       "      <td>227</td>\n",
       "      <td>71</td>\n",
       "      <td>2</td>\n",
       "    </tr>\n",
       "    <tr>\n",
       "      <th>8</th>\n",
       "      <td>Czechia</td>\n",
       "      <td>CZE</td>\n",
       "      <td>58.0</td>\n",
       "      <td>140.0</td>\n",
       "      <td>342.0</td>\n",
       "      <td>148.5</td>\n",
       "      <td>82.0</td>\n",
       "      <td>48</td>\n",
       "      <td>7</td>\n",
       "      <td>1</td>\n",
       "    </tr>\n",
       "    <tr>\n",
       "      <th>9</th>\n",
       "      <td>Denmark</td>\n",
       "      <td>DNK</td>\n",
       "      <td>109.0</td>\n",
       "      <td>207.0</td>\n",
       "      <td>480.5</td>\n",
       "      <td>216.5</td>\n",
       "      <td>122.0</td>\n",
       "      <td>42</td>\n",
       "      <td>9</td>\n",
       "      <td>1</td>\n",
       "    </tr>\n",
       "  </tbody>\n",
       "</table>\n",
       "</div>"
      ],
      "text/plain": [
       "     Country Alpha_3_Code     AGE  HEIGHT   WEIGHT   REACH  LEG REACH  Wins  \\\n",
       "0  Argentina          ARG    79.0   130.0    251.5   132.0       75.5    15   \n",
       "1    Armenia          ARM    31.0    75.0    194.0    71.0       42.0     7   \n",
       "2  Australia          AUS   367.0   917.5   2375.5   946.5      520.5   164   \n",
       "3    Austria          AUT    30.0    76.0    206.0    78.0       46.0    14   \n",
       "4     Brazil          BRA  2376.0  5160.0  11366.4  4752.0     2658.0  1062   \n",
       "5   Bulgaria          BGR    35.0    71.0    255.5    73.0       42.0    18   \n",
       "6     Canada          CAN   574.0  1240.5  27985.5  1250.0      707.5   226   \n",
       "7      China          CHN   336.0   811.0   1661.0   815.5      419.0   227   \n",
       "8    Czechia          CZE    58.0   140.0    342.0   148.5       82.0    48   \n",
       "9    Denmark          DNK   109.0   207.0    480.5   216.5      122.0    42   \n",
       "\n",
       "   Losses  Draws  \n",
       "0      11      0  \n",
       "1       1      0  \n",
       "2      40      1  \n",
       "3       2      0  \n",
       "4     301     19  \n",
       "5       4      0  \n",
       "6      83      4  \n",
       "7      71      2  \n",
       "8       7      1  \n",
       "9       9      1  "
      ]
     },
     "execution_count": 109,
     "metadata": {},
     "output_type": "execute_result"
    }
   ],
   "source": [
    "df_merge_group_country = df_merge.groupby(by=['Country', 'Alpha_3_Code'], as_index=False).sum()\n",
    "print(type(df_merge_group_country))\n",
    "df_merge_group_country.head(10)"
   ]
  },
  {
   "cell_type": "code",
   "execution_count": 110,
   "id": "3d328543-b738-47b5-81a7-b1ea2d747d13",
   "metadata": {},
   "outputs": [
    {
     "data": {
      "application/vnd.plotly.v1+json": {
       "config": {
        "plotlyServerURL": "https://plot.ly"
       },
       "data": [
        {
         "geo": "geo",
         "hovertemplate": "Wins=%{marker.size}<br>Alpha_3_Code=%{location}<extra></extra>",
         "legendgroup": "",
         "locations": [
          "ARG",
          "ARM",
          "AUS",
          "AUT",
          "BRA",
          "BGR",
          "CAN",
          "CHN",
          "CZE",
          "DNK",
          "ECU",
          "FIN",
          "FRA",
          "GEO",
          "DEU",
          "GRC",
          "GUM",
          "ISL",
          "IRL",
          "ITA",
          "JPN",
          "KAZ",
          "KGZ",
          "LTU",
          "MEX",
          "MDA",
          "MNG",
          "MAR",
          "NLD",
          "NZL",
          "NOR",
          "PAN",
          "PER",
          "PHL",
          "POL",
          "PRT",
          "ROU",
          "RUS",
          "SRB",
          "SVK",
          "ZAF",
          "KOR",
          "ESP",
          "SUR",
          "SWE",
          "CHE",
          "THA",
          "UKR",
          "ARE",
          "GBR",
          "USA",
          "UZB",
          "VEN"
         ],
         "marker": {
          "color": "#636efa",
          "size": [
           15,
           7,
           164,
           14,
           1062,
           18,
           226,
           227,
           48,
           42,
           18,
           17,
           81,
           23,
           53,
           13,
           13,
           18,
           42,
           50,
           28,
           56,
           31,
           9,
           143,
           45,
           12,
           27,
           10,
           99,
           22,
           8,
           12,
           18,
           131,
           15,
           12,
           507,
           11,
           20,
           27,
           95,
           42,
           12,
           96,
           24,
           37,
           63,
           11,
           313,
           5328,
           25,
           2
          ],
          "sizemode": "area",
          "sizeref": 13.32,
          "symbol": "circle"
         },
         "mode": "markers",
         "name": "",
         "showlegend": false,
         "type": "scattergeo"
        }
       ],
       "layout": {
        "autosize": true,
        "geo": {
         "center": {},
         "domain": {
          "x": [
           0,
           1
          ],
          "y": [
           0,
           1
          ]
         },
         "projection": {
          "type": "natural earth"
         }
        },
        "legend": {
         "itemsizing": "constant",
         "tracegroupgap": 0
        },
        "margin": {
         "t": 60
        },
        "template": {
         "data": {
          "bar": [
           {
            "error_x": {
             "color": "#2a3f5f"
            },
            "error_y": {
             "color": "#2a3f5f"
            },
            "marker": {
             "line": {
              "color": "#E5ECF6",
              "width": 0.5
             },
             "pattern": {
              "fillmode": "overlay",
              "size": 10,
              "solidity": 0.2
             }
            },
            "type": "bar"
           }
          ],
          "barpolar": [
           {
            "marker": {
             "line": {
              "color": "#E5ECF6",
              "width": 0.5
             },
             "pattern": {
              "fillmode": "overlay",
              "size": 10,
              "solidity": 0.2
             }
            },
            "type": "barpolar"
           }
          ],
          "carpet": [
           {
            "aaxis": {
             "endlinecolor": "#2a3f5f",
             "gridcolor": "white",
             "linecolor": "white",
             "minorgridcolor": "white",
             "startlinecolor": "#2a3f5f"
            },
            "baxis": {
             "endlinecolor": "#2a3f5f",
             "gridcolor": "white",
             "linecolor": "white",
             "minorgridcolor": "white",
             "startlinecolor": "#2a3f5f"
            },
            "type": "carpet"
           }
          ],
          "choropleth": [
           {
            "colorbar": {
             "outlinewidth": 0,
             "ticks": ""
            },
            "type": "choropleth"
           }
          ],
          "contour": [
           {
            "colorbar": {
             "outlinewidth": 0,
             "ticks": ""
            },
            "colorscale": [
             [
              0,
              "#0d0887"
             ],
             [
              0.1111111111111111,
              "#46039f"
             ],
             [
              0.2222222222222222,
              "#7201a8"
             ],
             [
              0.3333333333333333,
              "#9c179e"
             ],
             [
              0.4444444444444444,
              "#bd3786"
             ],
             [
              0.5555555555555556,
              "#d8576b"
             ],
             [
              0.6666666666666666,
              "#ed7953"
             ],
             [
              0.7777777777777778,
              "#fb9f3a"
             ],
             [
              0.8888888888888888,
              "#fdca26"
             ],
             [
              1,
              "#f0f921"
             ]
            ],
            "type": "contour"
           }
          ],
          "contourcarpet": [
           {
            "colorbar": {
             "outlinewidth": 0,
             "ticks": ""
            },
            "type": "contourcarpet"
           }
          ],
          "heatmap": [
           {
            "colorbar": {
             "outlinewidth": 0,
             "ticks": ""
            },
            "colorscale": [
             [
              0,
              "#0d0887"
             ],
             [
              0.1111111111111111,
              "#46039f"
             ],
             [
              0.2222222222222222,
              "#7201a8"
             ],
             [
              0.3333333333333333,
              "#9c179e"
             ],
             [
              0.4444444444444444,
              "#bd3786"
             ],
             [
              0.5555555555555556,
              "#d8576b"
             ],
             [
              0.6666666666666666,
              "#ed7953"
             ],
             [
              0.7777777777777778,
              "#fb9f3a"
             ],
             [
              0.8888888888888888,
              "#fdca26"
             ],
             [
              1,
              "#f0f921"
             ]
            ],
            "type": "heatmap"
           }
          ],
          "heatmapgl": [
           {
            "colorbar": {
             "outlinewidth": 0,
             "ticks": ""
            },
            "colorscale": [
             [
              0,
              "#0d0887"
             ],
             [
              0.1111111111111111,
              "#46039f"
             ],
             [
              0.2222222222222222,
              "#7201a8"
             ],
             [
              0.3333333333333333,
              "#9c179e"
             ],
             [
              0.4444444444444444,
              "#bd3786"
             ],
             [
              0.5555555555555556,
              "#d8576b"
             ],
             [
              0.6666666666666666,
              "#ed7953"
             ],
             [
              0.7777777777777778,
              "#fb9f3a"
             ],
             [
              0.8888888888888888,
              "#fdca26"
             ],
             [
              1,
              "#f0f921"
             ]
            ],
            "type": "heatmapgl"
           }
          ],
          "histogram": [
           {
            "marker": {
             "pattern": {
              "fillmode": "overlay",
              "size": 10,
              "solidity": 0.2
             }
            },
            "type": "histogram"
           }
          ],
          "histogram2d": [
           {
            "colorbar": {
             "outlinewidth": 0,
             "ticks": ""
            },
            "colorscale": [
             [
              0,
              "#0d0887"
             ],
             [
              0.1111111111111111,
              "#46039f"
             ],
             [
              0.2222222222222222,
              "#7201a8"
             ],
             [
              0.3333333333333333,
              "#9c179e"
             ],
             [
              0.4444444444444444,
              "#bd3786"
             ],
             [
              0.5555555555555556,
              "#d8576b"
             ],
             [
              0.6666666666666666,
              "#ed7953"
             ],
             [
              0.7777777777777778,
              "#fb9f3a"
             ],
             [
              0.8888888888888888,
              "#fdca26"
             ],
             [
              1,
              "#f0f921"
             ]
            ],
            "type": "histogram2d"
           }
          ],
          "histogram2dcontour": [
           {
            "colorbar": {
             "outlinewidth": 0,
             "ticks": ""
            },
            "colorscale": [
             [
              0,
              "#0d0887"
             ],
             [
              0.1111111111111111,
              "#46039f"
             ],
             [
              0.2222222222222222,
              "#7201a8"
             ],
             [
              0.3333333333333333,
              "#9c179e"
             ],
             [
              0.4444444444444444,
              "#bd3786"
             ],
             [
              0.5555555555555556,
              "#d8576b"
             ],
             [
              0.6666666666666666,
              "#ed7953"
             ],
             [
              0.7777777777777778,
              "#fb9f3a"
             ],
             [
              0.8888888888888888,
              "#fdca26"
             ],
             [
              1,
              "#f0f921"
             ]
            ],
            "type": "histogram2dcontour"
           }
          ],
          "mesh3d": [
           {
            "colorbar": {
             "outlinewidth": 0,
             "ticks": ""
            },
            "type": "mesh3d"
           }
          ],
          "parcoords": [
           {
            "line": {
             "colorbar": {
              "outlinewidth": 0,
              "ticks": ""
             }
            },
            "type": "parcoords"
           }
          ],
          "pie": [
           {
            "automargin": true,
            "type": "pie"
           }
          ],
          "scatter": [
           {
            "marker": {
             "colorbar": {
              "outlinewidth": 0,
              "ticks": ""
             }
            },
            "type": "scatter"
           }
          ],
          "scatter3d": [
           {
            "line": {
             "colorbar": {
              "outlinewidth": 0,
              "ticks": ""
             }
            },
            "marker": {
             "colorbar": {
              "outlinewidth": 0,
              "ticks": ""
             }
            },
            "type": "scatter3d"
           }
          ],
          "scattercarpet": [
           {
            "marker": {
             "colorbar": {
              "outlinewidth": 0,
              "ticks": ""
             }
            },
            "type": "scattercarpet"
           }
          ],
          "scattergeo": [
           {
            "marker": {
             "colorbar": {
              "outlinewidth": 0,
              "ticks": ""
             }
            },
            "type": "scattergeo"
           }
          ],
          "scattergl": [
           {
            "marker": {
             "colorbar": {
              "outlinewidth": 0,
              "ticks": ""
             }
            },
            "type": "scattergl"
           }
          ],
          "scattermapbox": [
           {
            "marker": {
             "colorbar": {
              "outlinewidth": 0,
              "ticks": ""
             }
            },
            "type": "scattermapbox"
           }
          ],
          "scatterpolar": [
           {
            "marker": {
             "colorbar": {
              "outlinewidth": 0,
              "ticks": ""
             }
            },
            "type": "scatterpolar"
           }
          ],
          "scatterpolargl": [
           {
            "marker": {
             "colorbar": {
              "outlinewidth": 0,
              "ticks": ""
             }
            },
            "type": "scatterpolargl"
           }
          ],
          "scatterternary": [
           {
            "marker": {
             "colorbar": {
              "outlinewidth": 0,
              "ticks": ""
             }
            },
            "type": "scatterternary"
           }
          ],
          "surface": [
           {
            "colorbar": {
             "outlinewidth": 0,
             "ticks": ""
            },
            "colorscale": [
             [
              0,
              "#0d0887"
             ],
             [
              0.1111111111111111,
              "#46039f"
             ],
             [
              0.2222222222222222,
              "#7201a8"
             ],
             [
              0.3333333333333333,
              "#9c179e"
             ],
             [
              0.4444444444444444,
              "#bd3786"
             ],
             [
              0.5555555555555556,
              "#d8576b"
             ],
             [
              0.6666666666666666,
              "#ed7953"
             ],
             [
              0.7777777777777778,
              "#fb9f3a"
             ],
             [
              0.8888888888888888,
              "#fdca26"
             ],
             [
              1,
              "#f0f921"
             ]
            ],
            "type": "surface"
           }
          ],
          "table": [
           {
            "cells": {
             "fill": {
              "color": "#EBF0F8"
             },
             "line": {
              "color": "white"
             }
            },
            "header": {
             "fill": {
              "color": "#C8D4E3"
             },
             "line": {
              "color": "white"
             }
            },
            "type": "table"
           }
          ]
         },
         "layout": {
          "annotationdefaults": {
           "arrowcolor": "#2a3f5f",
           "arrowhead": 0,
           "arrowwidth": 1
          },
          "autotypenumbers": "strict",
          "coloraxis": {
           "colorbar": {
            "outlinewidth": 0,
            "ticks": ""
           }
          },
          "colorscale": {
           "diverging": [
            [
             0,
             "#8e0152"
            ],
            [
             0.1,
             "#c51b7d"
            ],
            [
             0.2,
             "#de77ae"
            ],
            [
             0.3,
             "#f1b6da"
            ],
            [
             0.4,
             "#fde0ef"
            ],
            [
             0.5,
             "#f7f7f7"
            ],
            [
             0.6,
             "#e6f5d0"
            ],
            [
             0.7,
             "#b8e186"
            ],
            [
             0.8,
             "#7fbc41"
            ],
            [
             0.9,
             "#4d9221"
            ],
            [
             1,
             "#276419"
            ]
           ],
           "sequential": [
            [
             0,
             "#0d0887"
            ],
            [
             0.1111111111111111,
             "#46039f"
            ],
            [
             0.2222222222222222,
             "#7201a8"
            ],
            [
             0.3333333333333333,
             "#9c179e"
            ],
            [
             0.4444444444444444,
             "#bd3786"
            ],
            [
             0.5555555555555556,
             "#d8576b"
            ],
            [
             0.6666666666666666,
             "#ed7953"
            ],
            [
             0.7777777777777778,
             "#fb9f3a"
            ],
            [
             0.8888888888888888,
             "#fdca26"
            ],
            [
             1,
             "#f0f921"
            ]
           ],
           "sequentialminus": [
            [
             0,
             "#0d0887"
            ],
            [
             0.1111111111111111,
             "#46039f"
            ],
            [
             0.2222222222222222,
             "#7201a8"
            ],
            [
             0.3333333333333333,
             "#9c179e"
            ],
            [
             0.4444444444444444,
             "#bd3786"
            ],
            [
             0.5555555555555556,
             "#d8576b"
            ],
            [
             0.6666666666666666,
             "#ed7953"
            ],
            [
             0.7777777777777778,
             "#fb9f3a"
            ],
            [
             0.8888888888888888,
             "#fdca26"
            ],
            [
             1,
             "#f0f921"
            ]
           ]
          },
          "colorway": [
           "#636efa",
           "#EF553B",
           "#00cc96",
           "#ab63fa",
           "#FFA15A",
           "#19d3f3",
           "#FF6692",
           "#B6E880",
           "#FF97FF",
           "#FECB52"
          ],
          "font": {
           "color": "#2a3f5f"
          },
          "geo": {
           "bgcolor": "white",
           "lakecolor": "white",
           "landcolor": "#E5ECF6",
           "showlakes": true,
           "showland": true,
           "subunitcolor": "white"
          },
          "hoverlabel": {
           "align": "left"
          },
          "hovermode": "closest",
          "mapbox": {
           "style": "light"
          },
          "paper_bgcolor": "white",
          "plot_bgcolor": "#E5ECF6",
          "polar": {
           "angularaxis": {
            "gridcolor": "white",
            "linecolor": "white",
            "ticks": ""
           },
           "bgcolor": "#E5ECF6",
           "radialaxis": {
            "gridcolor": "white",
            "linecolor": "white",
            "ticks": ""
           }
          },
          "scene": {
           "xaxis": {
            "backgroundcolor": "#E5ECF6",
            "gridcolor": "white",
            "gridwidth": 2,
            "linecolor": "white",
            "showbackground": true,
            "ticks": "",
            "zerolinecolor": "white"
           },
           "yaxis": {
            "backgroundcolor": "#E5ECF6",
            "gridcolor": "white",
            "gridwidth": 2,
            "linecolor": "white",
            "showbackground": true,
            "ticks": "",
            "zerolinecolor": "white"
           },
           "zaxis": {
            "backgroundcolor": "#E5ECF6",
            "gridcolor": "white",
            "gridwidth": 2,
            "linecolor": "white",
            "showbackground": true,
            "ticks": "",
            "zerolinecolor": "white"
           }
          },
          "shapedefaults": {
           "line": {
            "color": "#2a3f5f"
           }
          },
          "ternary": {
           "aaxis": {
            "gridcolor": "white",
            "linecolor": "white",
            "ticks": ""
           },
           "baxis": {
            "gridcolor": "white",
            "linecolor": "white",
            "ticks": ""
           },
           "bgcolor": "#E5ECF6",
           "caxis": {
            "gridcolor": "white",
            "linecolor": "white",
            "ticks": ""
           }
          },
          "title": {
           "x": 0.05
          },
          "xaxis": {
           "automargin": true,
           "gridcolor": "white",
           "linecolor": "white",
           "ticks": "",
           "title": {
            "standoff": 15
           },
           "zerolinecolor": "white",
           "zerolinewidth": 2
          },
          "yaxis": {
           "automargin": true,
           "gridcolor": "white",
           "linecolor": "white",
           "ticks": "",
           "title": {
            "standoff": 15
           },
           "zerolinecolor": "white",
           "zerolinewidth": 2
          }
         }
        }
       }
      },
      "image/png": "[encoded data removed]",
      "text/html": [
       "<div>                            <div id=\"3dc322a3-a9e6-4d3a-bcb7-db3fcdfdeed3\" class=\"plotly-graph-div\" style=\"height:525px; width:100%;\"></div>            <script type=\"text/javascript\">                require([\"plotly\"], function(Plotly) {                    window.PLOTLYENV=window.PLOTLYENV || {};                                    if (document.getElementById(\"3dc322a3-a9e6-4d3a-bcb7-db3fcdfdeed3\")) {                    Plotly.newPlot(                        \"3dc322a3-a9e6-4d3a-bcb7-db3fcdfdeed3\",                        [{\"geo\":\"geo\",\"hovertemplate\":\"Wins=%{marker.size}<br>Alpha_3_Code=%{location}<extra></extra>\",\"legendgroup\":\"\",\"locations\":[\"ARG\",\"ARM\",\"AUS\",\"AUT\",\"BRA\",\"BGR\",\"CAN\",\"CHN\",\"CZE\",\"DNK\",\"ECU\",\"FIN\",\"FRA\",\"GEO\",\"DEU\",\"GRC\",\"GUM\",\"ISL\",\"IRL\",\"ITA\",\"JPN\",\"KAZ\",\"KGZ\",\"LTU\",\"MEX\",\"MDA\",\"MNG\",\"MAR\",\"NLD\",\"NZL\",\"NOR\",\"PAN\",\"PER\",\"PHL\",\"POL\",\"PRT\",\"ROU\",\"RUS\",\"SRB\",\"SVK\",\"ZAF\",\"KOR\",\"ESP\",\"SUR\",\"SWE\",\"CHE\",\"THA\",\"UKR\",\"ARE\",\"GBR\",\"USA\",\"UZB\",\"VEN\"],\"marker\":{\"color\":\"#636efa\",\"size\":[15,7,164,14,1062,18,226,227,48,42,18,17,81,23,53,13,13,18,42,50,28,56,31,9,143,45,12,27,10,99,22,8,12,18,131,15,12,507,11,20,27,95,42,12,96,24,37,63,11,313,5328,25,2],\"sizemode\":\"area\",\"sizeref\":13.32,\"symbol\":\"circle\"},\"mode\":\"markers\",\"name\":\"\",\"showlegend\":false,\"type\":\"scattergeo\"}],                        {\"template\":{\"data\":{\"bar\":[{\"error_x\":{\"color\":\"#2a3f5f\"},\"error_y\":{\"color\":\"#2a3f5f\"},\"marker\":{\"line\":{\"color\":\"#E5ECF6\",\"width\":0.5},\"pattern\":{\"fillmode\":\"overlay\",\"size\":10,\"solidity\":0.2}},\"type\":\"bar\"}],\"barpolar\":[{\"marker\":{\"line\":{\"color\":\"#E5ECF6\",\"width\":0.5},\"pattern\":{\"fillmode\":\"overlay\",\"size\":10,\"solidity\":0.2}},\"type\":\"barpolar\"}],\"carpet\":[{\"aaxis\":{\"endlinecolor\":\"#2a3f5f\",\"gridcolor\":\"white\",\"linecolor\":\"white\",\"minorgridcolor\":\"white\",\"startlinecolor\":\"#2a3f5f\"},\"baxis\":{\"endlinecolor\":\"#2a3f5f\",\"gridcolor\":\"white\",\"linecolor\":\"white\",\"minorgridcolor\":\"white\",\"startlinecolor\":\"#2a3f5f\"},\"type\":\"carpet\"}],\"choropleth\":[{\"colorbar\":{\"outlinewidth\":0,\"ticks\":\"\"},\"type\":\"choropleth\"}],\"contour\":[{\"colorbar\":{\"outlinewidth\":0,\"ticks\":\"\"},\"colorscale\":[[0.0,\"#0d0887\"],[0.1111111111111111,\"#46039f\"],[0.2222222222222222,\"#7201a8\"],[0.3333333333333333,\"#9c179e\"],[0.4444444444444444,\"#bd3786\"],[0.5555555555555556,\"#d8576b\"],[0.6666666666666666,\"#ed7953\"],[0.7777777777777778,\"#fb9f3a\"],[0.8888888888888888,\"#fdca26\"],[1.0,\"#f0f921\"]],\"type\":\"contour\"}],\"contourcarpet\":[{\"colorbar\":{\"outlinewidth\":0,\"ticks\":\"\"},\"type\":\"contourcarpet\"}],\"heatmap\":[{\"colorbar\":{\"outlinewidth\":0,\"ticks\":\"\"},\"colorscale\":[[0.0,\"#0d0887\"],[0.1111111111111111,\"#46039f\"],[0.2222222222222222,\"#7201a8\"],[0.3333333333333333,\"#9c179e\"],[0.4444444444444444,\"#bd3786\"],[0.5555555555555556,\"#d8576b\"],[0.6666666666666666,\"#ed7953\"],[0.7777777777777778,\"#fb9f3a\"],[0.8888888888888888,\"#fdca26\"],[1.0,\"#f0f921\"]],\"type\":\"heatmap\"}],\"heatmapgl\":[{\"colorbar\":{\"outlinewidth\":0,\"ticks\":\"\"},\"colorscale\":[[0.0,\"#0d0887\"],[0.1111111111111111,\"#46039f\"],[0.2222222222222222,\"#7201a8\"],[0.3333333333333333,\"#9c179e\"],[0.4444444444444444,\"#bd3786\"],[0.5555555555555556,\"#d8576b\"],[0.6666666666666666,\"#ed7953\"],[0.7777777777777778,\"#fb9f3a\"],[0.8888888888888888,\"#fdca26\"],[1.0,\"#f0f921\"]],\"type\":\"heatmapgl\"}],\"histogram\":[{\"marker\":{\"pattern\":{\"fillmode\":\"overlay\",\"size\":10,\"solidity\":0.2}},\"type\":\"histogram\"}],\"histogram2d\":[{\"colorbar\":{\"outlinewidth\":0,\"ticks\":\"\"},\"colorscale\":[[0.0,\"#0d0887\"],[0.1111111111111111,\"#46039f\"],[0.2222222222222222,\"#7201a8\"],[0.3333333333333333,\"#9c179e\"],[0.4444444444444444,\"#bd3786\"],[0.5555555555555556,\"#d8576b\"],[0.6666666666666666,\"#ed7953\"],[0.7777777777777778,\"#fb9f3a\"],[0.8888888888888888,\"#fdca26\"],[1.0,\"#f0f921\"]],\"type\":\"histogram2d\"}],\"histogram2dcontour\":[{\"colorbar\":{\"outlinewidth\":0,\"ticks\":\"\"},\"colorscale\":[[0.0,\"#0d0887\"],[0.1111111111111111,\"#46039f\"],[0.2222222222222222,\"#7201a8\"],[0.3333333333333333,\"#9c179e\"],[0.4444444444444444,\"#bd3786\"],[0.5555555555555556,\"#d8576b\"],[0.6666666666666666,\"#ed7953\"],[0.7777777777777778,\"#fb9f3a\"],[0.8888888888888888,\"#fdca26\"],[1.0,\"#f0f921\"]],\"type\":\"histogram2dcontour\"}],\"mesh3d\":[{\"colorbar\":{\"outlinewidth\":0,\"ticks\":\"\"},\"type\":\"mesh3d\"}],\"parcoords\":[{\"line\":{\"colorbar\":{\"outlinewidth\":0,\"ticks\":\"\"}},\"type\":\"parcoords\"}],\"pie\":[{\"automargin\":true,\"type\":\"pie\"}],\"scatter\":[{\"marker\":{\"colorbar\":{\"outlinewidth\":0,\"ticks\":\"\"}},\"type\":\"scatter\"}],\"scatter3d\":[{\"line\":{\"colorbar\":{\"outlinewidth\":0,\"ticks\":\"\"}},\"marker\":{\"colorbar\":{\"outlinewidth\":0,\"ticks\":\"\"}},\"type\":\"scatter3d\"}],\"scattercarpet\":[{\"marker\":{\"colorbar\":{\"outlinewidth\":0,\"ticks\":\"\"}},\"type\":\"scattercarpet\"}],\"scattergeo\":[{\"marker\":{\"colorbar\":{\"outlinewidth\":0,\"ticks\":\"\"}},\"type\":\"scattergeo\"}],\"scattergl\":[{\"marker\":{\"colorbar\":{\"outlinewidth\":0,\"ticks\":\"\"}},\"type\":\"scattergl\"}],\"scattermapbox\":[{\"marker\":{\"colorbar\":{\"outlinewidth\":0,\"ticks\":\"\"}},\"type\":\"scattermapbox\"}],\"scatterpolar\":[{\"marker\":{\"colorbar\":{\"outlinewidth\":0,\"ticks\":\"\"}},\"type\":\"scatterpolar\"}],\"scatterpolargl\":[{\"marker\":{\"colorbar\":{\"outlinewidth\":0,\"ticks\":\"\"}},\"type\":\"scatterpolargl\"}],\"scatterternary\":[{\"marker\":{\"colorbar\":{\"outlinewidth\":0,\"ticks\":\"\"}},\"type\":\"scatterternary\"}],\"surface\":[{\"colorbar\":{\"outlinewidth\":0,\"ticks\":\"\"},\"colorscale\":[[0.0,\"#0d0887\"],[0.1111111111111111,\"#46039f\"],[0.2222222222222222,\"#7201a8\"],[0.3333333333333333,\"#9c179e\"],[0.4444444444444444,\"#bd3786\"],[0.5555555555555556,\"#d8576b\"],[0.6666666666666666,\"#ed7953\"],[0.7777777777777778,\"#fb9f3a\"],[0.8888888888888888,\"#fdca26\"],[1.0,\"#f0f921\"]],\"type\":\"surface\"}],\"table\":[{\"cells\":{\"fill\":{\"color\":\"#EBF0F8\"},\"line\":{\"color\":\"white\"}},\"header\":{\"fill\":{\"color\":\"#C8D4E3\"},\"line\":{\"color\":\"white\"}},\"type\":\"table\"}]},\"layout\":{\"annotationdefaults\":{\"arrowcolor\":\"#2a3f5f\",\"arrowhead\":0,\"arrowwidth\":1},\"autotypenumbers\":\"strict\",\"coloraxis\":{\"colorbar\":{\"outlinewidth\":0,\"ticks\":\"\"}},\"colorscale\":{\"diverging\":[[0,\"#8e0152\"],[0.1,\"#c51b7d\"],[0.2,\"#de77ae\"],[0.3,\"#f1b6da\"],[0.4,\"#fde0ef\"],[0.5,\"#f7f7f7\"],[0.6,\"#e6f5d0\"],[0.7,\"#b8e186\"],[0.8,\"#7fbc41\"],[0.9,\"#4d9221\"],[1,\"#276419\"]],\"sequential\":[[0.0,\"#0d0887\"],[0.1111111111111111,\"#46039f\"],[0.2222222222222222,\"#7201a8\"],[0.3333333333333333,\"#9c179e\"],[0.4444444444444444,\"#bd3786\"],[0.5555555555555556,\"#d8576b\"],[0.6666666666666666,\"#ed7953\"],[0.7777777777777778,\"#fb9f3a\"],[0.8888888888888888,\"#fdca26\"],[1.0,\"#f0f921\"]],\"sequentialminus\":[[0.0,\"#0d0887\"],[0.1111111111111111,\"#46039f\"],[0.2222222222222222,\"#7201a8\"],[0.3333333333333333,\"#9c179e\"],[0.4444444444444444,\"#bd3786\"],[0.5555555555555556,\"#d8576b\"],[0.6666666666666666,\"#ed7953\"],[0.7777777777777778,\"#fb9f3a\"],[0.8888888888888888,\"#fdca26\"],[1.0,\"#f0f921\"]]},\"colorway\":[\"#636efa\",\"#EF553B\",\"#00cc96\",\"#ab63fa\",\"#FFA15A\",\"#19d3f3\",\"#FF6692\",\"#B6E880\",\"#FF97FF\",\"#FECB52\"],\"font\":{\"color\":\"#2a3f5f\"},\"geo\":{\"bgcolor\":\"white\",\"lakecolor\":\"white\",\"landcolor\":\"#E5ECF6\",\"showlakes\":true,\"showland\":true,\"subunitcolor\":\"white\"},\"hoverlabel\":{\"align\":\"left\"},\"hovermode\":\"closest\",\"mapbox\":{\"style\":\"light\"},\"paper_bgcolor\":\"white\",\"plot_bgcolor\":\"#E5ECF6\",\"polar\":{\"angularaxis\":{\"gridcolor\":\"white\",\"linecolor\":\"white\",\"ticks\":\"\"},\"bgcolor\":\"#E5ECF6\",\"radialaxis\":{\"gridcolor\":\"white\",\"linecolor\":\"white\",\"ticks\":\"\"}},\"scene\":{\"xaxis\":{\"backgroundcolor\":\"#E5ECF6\",\"gridcolor\":\"white\",\"gridwidth\":2,\"linecolor\":\"white\",\"showbackground\":true,\"ticks\":\"\",\"zerolinecolor\":\"white\"},\"yaxis\":{\"backgroundcolor\":\"#E5ECF6\",\"gridcolor\":\"white\",\"gridwidth\":2,\"linecolor\":\"white\",\"showbackground\":true,\"ticks\":\"\",\"zerolinecolor\":\"white\"},\"zaxis\":{\"backgroundcolor\":\"#E5ECF6\",\"gridcolor\":\"white\",\"gridwidth\":2,\"linecolor\":\"white\",\"showbackground\":true,\"ticks\":\"\",\"zerolinecolor\":\"white\"}},\"shapedefaults\":{\"line\":{\"color\":\"#2a3f5f\"}},\"ternary\":{\"aaxis\":{\"gridcolor\":\"white\",\"linecolor\":\"white\",\"ticks\":\"\"},\"baxis\":{\"gridcolor\":\"white\",\"linecolor\":\"white\",\"ticks\":\"\"},\"bgcolor\":\"#E5ECF6\",\"caxis\":{\"gridcolor\":\"white\",\"linecolor\":\"white\",\"ticks\":\"\"}},\"title\":{\"x\":0.05},\"xaxis\":{\"automargin\":true,\"gridcolor\":\"white\",\"linecolor\":\"white\",\"ticks\":\"\",\"title\":{\"standoff\":15},\"zerolinecolor\":\"white\",\"zerolinewidth\":2},\"yaxis\":{\"automargin\":true,\"gridcolor\":\"white\",\"linecolor\":\"white\",\"ticks\":\"\",\"title\":{\"standoff\":15},\"zerolinecolor\":\"white\",\"zerolinewidth\":2}}},\"geo\":{\"domain\":{\"x\":[0.0,1.0],\"y\":[0.0,1.0]},\"projection\":{\"type\":\"natural earth\"},\"center\":{}},\"legend\":{\"tracegroupgap\":0,\"itemsizing\":\"constant\"},\"margin\":{\"t\":60}},                        {\"responsive\": true}                    ).then(function(){\n",
       "                            \n",
       "var gd = document.getElementById('3dc322a3-a9e6-4d3a-bcb7-db3fcdfdeed3');\n",
       "var x = new MutationObserver(function (mutations, observer) {{\n",
       "        var display = window.getComputedStyle(gd).display;\n",
       "        if (!display || display === 'none') {{\n",
       "            console.log([gd, 'removed!']);\n",
       "            Plotly.purge(gd);\n",
       "            observer.disconnect();\n",
       "        }}\n",
       "}});\n",
       "\n",
       "// Listen for the removal of the full notebook cells\n",
       "var notebookContainer = gd.closest('#notebook-container');\n",
       "if (notebookContainer) {{\n",
       "    x.observe(notebookContainer, {childList: true});\n",
       "}}\n",
       "\n",
       "// Listen for the clearing of the current output cell\n",
       "var outputEl = gd.closest('.output');\n",
       "if (outputEl) {{\n",
       "    x.observe(outputEl, {childList: true});\n",
       "}}\n",
       "\n",
       "                        })                };                });            </script>        </div>"
      ]
     },
     "metadata": {},
     "output_type": "display_data"
    }
   ],
   "source": [
    "fig = px.scatter_geo(df_merge_group_country,\n",
    "                     locations='Alpha_3_Code',\n",
    "                     size='Wins',\n",
    "                     projection='natural earth'\n",
    "                    )\n",
    "fig.show()"
   ]
  },
  {
   "cell_type": "code",
   "execution_count": 111,
   "id": "53daf040-3cf1-4c80-8696-a4a499ab9146",
   "metadata": {},
   "outputs": [
    {
     "data": {
      "application/vnd.plotly.v1+json": {
       "config": {
        "plotlyServerURL": "https://plot.ly"
       },
       "data": [
        {
         "geo": "geo",
         "hovertemplate": "Wins=%{marker.size}<br>Alpha_3_Code=%{location}<extra></extra>",
         "legendgroup": "",
         "locations": [
          "ARG",
          "ARM",
          "AUS",
          "AUT",
          "BRA",
          "BGR",
          "CAN",
          "CHN",
          "CZE",
          "DNK",
          "ECU",
          "FIN",
          "FRA",
          "GEO",
          "DEU",
          "GRC",
          "GUM",
          "ISL",
          "IRL",
          "ITA",
          "JPN",
          "KAZ",
          "KGZ",
          "LTU",
          "MEX",
          "MDA",
          "MNG",
          "MAR",
          "NLD",
          "NZL",
          "NOR",
          "PAN",
          "PER",
          "PHL",
          "POL",
          "PRT",
          "ROU",
          "RUS",
          "SRB",
          "SVK",
          "ZAF",
          "KOR",
          "ESP",
          "SUR",
          "SWE",
          "CHE",
          "THA",
          "UKR",
          "ARE",
          "GBR",
          "USA",
          "UZB",
          "VEN"
         ],
         "marker": {
          "color": "#636efa",
          "size": [
           15,
           7,
           164,
           14,
           1062,
           18,
           226,
           227,
           48,
           42,
           18,
           17,
           81,
           23,
           53,
           13,
           13,
           18,
           42,
           50,
           28,
           56,
           31,
           9,
           143,
           45,
           12,
           27,
           10,
           99,
           22,
           8,
           12,
           18,
           131,
           15,
           12,
           507,
           11,
           20,
           27,
           95,
           42,
           12,
           96,
           24,
           37,
           63,
           11,
           313,
           5328,
           25,
           2
          ],
          "sizemode": "area",
          "sizeref": 13.32,
          "symbol": "circle"
         },
         "mode": "markers",
         "name": "",
         "showlegend": false,
         "type": "scattergeo"
        }
       ],
       "layout": {
        "autosize": true,
        "geo": {
         "center": {
          "lat": -3.7080572429908374,
          "lon": -0.7521984042207057
         },
         "domain": {
          "x": [
           0,
           1
          ],
          "y": [
           0,
           1
          ]
         },
         "projection": {
          "rotation": {
           "lon": -0.7521984042207057
          },
          "scale": 0.7578582832551991,
          "type": "natural earth"
         }
        },
        "legend": {
         "itemsizing": "constant",
         "tracegroupgap": 0
        },
        "margin": {
         "t": 60
        },
        "template": {
         "data": {
          "bar": [
           {
            "error_x": {
             "color": "#f2f5fa"
            },
            "error_y": {
             "color": "#f2f5fa"
            },
            "marker": {
             "line": {
              "color": "rgb(17,17,17)",
              "width": 0.5
             },
             "pattern": {
              "fillmode": "overlay",
              "size": 10,
              "solidity": 0.2
             }
            },
            "type": "bar"
           }
          ],
          "barpolar": [
           {
            "marker": {
             "line": {
              "color": "rgb(17,17,17)",
              "width": 0.5
             },
             "pattern": {
              "fillmode": "overlay",
              "size": 10,
              "solidity": 0.2
             }
            },
            "type": "barpolar"
           }
          ],
          "carpet": [
           {
            "aaxis": {
             "endlinecolor": "#A2B1C6",
             "gridcolor": "#506784",
             "linecolor": "#506784",
             "minorgridcolor": "#506784",
             "startlinecolor": "#A2B1C6"
            },
            "baxis": {
             "endlinecolor": "#A2B1C6",
             "gridcolor": "#506784",
             "linecolor": "#506784",
             "minorgridcolor": "#506784",
             "startlinecolor": "#A2B1C6"
            },
            "type": "carpet"
           }
          ],
          "choropleth": [
           {
            "colorbar": {
             "outlinewidth": 0,
             "ticks": ""
            },
            "type": "choropleth"
           }
          ],
          "contour": [
           {
            "colorbar": {
             "outlinewidth": 0,
             "ticks": ""
            },
            "colorscale": [
             [
              0,
              "#0d0887"
             ],
             [
              0.1111111111111111,
              "#46039f"
             ],
             [
              0.2222222222222222,
              "#7201a8"
             ],
             [
              0.3333333333333333,
              "#9c179e"
             ],
             [
              0.4444444444444444,
              "#bd3786"
             ],
             [
              0.5555555555555556,
              "#d8576b"
             ],
             [
              0.6666666666666666,
              "#ed7953"
             ],
             [
              0.7777777777777778,
              "#fb9f3a"
             ],
             [
              0.8888888888888888,
              "#fdca26"
             ],
             [
              1,
              "#f0f921"
             ]
            ],
            "type": "contour"
           }
          ],
          "contourcarpet": [
           {
            "colorbar": {
             "outlinewidth": 0,
             "ticks": ""
            },
            "type": "contourcarpet"
           }
          ],
          "heatmap": [
           {
            "colorbar": {
             "outlinewidth": 0,
             "ticks": ""
            },
            "colorscale": [
             [
              0,
              "#0d0887"
             ],
             [
              0.1111111111111111,
              "#46039f"
             ],
             [
              0.2222222222222222,
              "#7201a8"
             ],
             [
              0.3333333333333333,
              "#9c179e"
             ],
             [
              0.4444444444444444,
              "#bd3786"
             ],
             [
              0.5555555555555556,
              "#d8576b"
             ],
             [
              0.6666666666666666,
              "#ed7953"
             ],
             [
              0.7777777777777778,
              "#fb9f3a"
             ],
             [
              0.8888888888888888,
              "#fdca26"
             ],
             [
              1,
              "#f0f921"
             ]
            ],
            "type": "heatmap"
           }
          ],
          "heatmapgl": [
           {
            "colorbar": {
             "outlinewidth": 0,
             "ticks": ""
            },
            "colorscale": [
             [
              0,
              "#0d0887"
             ],
             [
              0.1111111111111111,
              "#46039f"
             ],
             [
              0.2222222222222222,
              "#7201a8"
             ],
             [
              0.3333333333333333,
              "#9c179e"
             ],
             [
              0.4444444444444444,
              "#bd3786"
             ],
             [
              0.5555555555555556,
              "#d8576b"
             ],
             [
              0.6666666666666666,
              "#ed7953"
             ],
             [
              0.7777777777777778,
              "#fb9f3a"
             ],
             [
              0.8888888888888888,
              "#fdca26"
             ],
             [
              1,
              "#f0f921"
             ]
            ],
            "type": "heatmapgl"
           }
          ],
          "histogram": [
           {
            "marker": {
             "pattern": {
              "fillmode": "overlay",
              "size": 10,
              "solidity": 0.2
             }
            },
            "type": "histogram"
           }
          ],
          "histogram2d": [
           {
            "colorbar": {
             "outlinewidth": 0,
             "ticks": ""
            },
            "colorscale": [
             [
              0,
              "#0d0887"
             ],
             [
              0.1111111111111111,
              "#46039f"
             ],
             [
              0.2222222222222222,
              "#7201a8"
             ],
             [
              0.3333333333333333,
              "#9c179e"
             ],
             [
              0.4444444444444444,
              "#bd3786"
             ],
             [
              0.5555555555555556,
              "#d8576b"
             ],
             [
              0.6666666666666666,
              "#ed7953"
             ],
             [
              0.7777777777777778,
              "#fb9f3a"
             ],
             [
              0.8888888888888888,
              "#fdca26"
             ],
             [
              1,
              "#f0f921"
             ]
            ],
            "type": "histogram2d"
           }
          ],
          "histogram2dcontour": [
           {
            "colorbar": {
             "outlinewidth": 0,
             "ticks": ""
            },
            "colorscale": [
             [
              0,
              "#0d0887"
             ],
             [
              0.1111111111111111,
              "#46039f"
             ],
             [
              0.2222222222222222,
              "#7201a8"
             ],
             [
              0.3333333333333333,
              "#9c179e"
             ],
             [
              0.4444444444444444,
              "#bd3786"
             ],
             [
              0.5555555555555556,
              "#d8576b"
             ],
             [
              0.6666666666666666,
              "#ed7953"
             ],
             [
              0.7777777777777778,
              "#fb9f3a"
             ],
             [
              0.8888888888888888,
              "#fdca26"
             ],
             [
              1,
              "#f0f921"
             ]
            ],
            "type": "histogram2dcontour"
           }
          ],
          "mesh3d": [
           {
            "colorbar": {
             "outlinewidth": 0,
             "ticks": ""
            },
            "type": "mesh3d"
           }
          ],
          "parcoords": [
           {
            "line": {
             "colorbar": {
              "outlinewidth": 0,
              "ticks": ""
             }
            },
            "type": "parcoords"
           }
          ],
          "pie": [
           {
            "automargin": true,
            "type": "pie"
           }
          ],
          "scatter": [
           {
            "marker": {
             "line": {
              "color": "#283442"
             }
            },
            "type": "scatter"
           }
          ],
          "scatter3d": [
           {
            "line": {
             "colorbar": {
              "outlinewidth": 0,
              "ticks": ""
             }
            },
            "marker": {
             "colorbar": {
              "outlinewidth": 0,
              "ticks": ""
             }
            },
            "type": "scatter3d"
           }
          ],
          "scattercarpet": [
           {
            "marker": {
             "colorbar": {
              "outlinewidth": 0,
              "ticks": ""
             }
            },
            "type": "scattercarpet"
           }
          ],
          "scattergeo": [
           {
            "marker": {
             "colorbar": {
              "outlinewidth": 0,
              "ticks": ""
             }
            },
            "type": "scattergeo"
           }
          ],
          "scattergl": [
           {
            "marker": {
             "line": {
              "color": "#283442"
             }
            },
            "type": "scattergl"
           }
          ],
          "scattermapbox": [
           {
            "marker": {
             "colorbar": {
              "outlinewidth": 0,
              "ticks": ""
             }
            },
            "type": "scattermapbox"
           }
          ],
          "scatterpolar": [
           {
            "marker": {
             "colorbar": {
              "outlinewidth": 0,
              "ticks": ""
             }
            },
            "type": "scatterpolar"
           }
          ],
          "scatterpolargl": [
           {
            "marker": {
             "colorbar": {
              "outlinewidth": 0,
              "ticks": ""
             }
            },
            "type": "scatterpolargl"
           }
          ],
          "scatterternary": [
           {
            "marker": {
             "colorbar": {
              "outlinewidth": 0,
              "ticks": ""
             }
            },
            "type": "scatterternary"
           }
          ],
          "surface": [
           {
            "colorbar": {
             "outlinewidth": 0,
             "ticks": ""
            },
            "colorscale": [
             [
              0,
              "#0d0887"
             ],
             [
              0.1111111111111111,
              "#46039f"
             ],
             [
              0.2222222222222222,
              "#7201a8"
             ],
             [
              0.3333333333333333,
              "#9c179e"
             ],
             [
              0.4444444444444444,
              "#bd3786"
             ],
             [
              0.5555555555555556,
              "#d8576b"
             ],
             [
              0.6666666666666666,
              "#ed7953"
             ],
             [
              0.7777777777777778,
              "#fb9f3a"
             ],
             [
              0.8888888888888888,
              "#fdca26"
             ],
             [
              1,
              "#f0f921"
             ]
            ],
            "type": "surface"
           }
          ],
          "table": [
           {
            "cells": {
             "fill": {
              "color": "#506784"
             },
             "line": {
              "color": "rgb(17,17,17)"
             }
            },
            "header": {
             "fill": {
              "color": "#2a3f5f"
             },
             "line": {
              "color": "rgb(17,17,17)"
             }
            },
            "type": "table"
           }
          ]
         },
         "layout": {
          "annotationdefaults": {
           "arrowcolor": "#f2f5fa",
           "arrowhead": 0,
           "arrowwidth": 1
          },
          "autotypenumbers": "strict",
          "coloraxis": {
           "colorbar": {
            "outlinewidth": 0,
            "ticks": ""
           }
          },
          "colorscale": {
           "diverging": [
            [
             0,
             "#8e0152"
            ],
            [
             0.1,
             "#c51b7d"
            ],
            [
             0.2,
             "#de77ae"
            ],
            [
             0.3,
             "#f1b6da"
            ],
            [
             0.4,
             "#fde0ef"
            ],
            [
             0.5,
             "#f7f7f7"
            ],
            [
             0.6,
             "#e6f5d0"
            ],
            [
             0.7,
             "#b8e186"
            ],
            [
             0.8,
             "#7fbc41"
            ],
            [
             0.9,
             "#4d9221"
            ],
            [
             1,
             "#276419"
            ]
           ],
           "sequential": [
            [
             0,
             "#0d0887"
            ],
            [
             0.1111111111111111,
             "#46039f"
            ],
            [
             0.2222222222222222,
             "#7201a8"
            ],
            [
             0.3333333333333333,
             "#9c179e"
            ],
            [
             0.4444444444444444,
             "#bd3786"
            ],
            [
             0.5555555555555556,
             "#d8576b"
            ],
            [
             0.6666666666666666,
             "#ed7953"
            ],
            [
             0.7777777777777778,
             "#fb9f3a"
            ],
            [
             0.8888888888888888,
             "#fdca26"
            ],
            [
             1,
             "#f0f921"
            ]
           ],
           "sequentialminus": [
            [
             0,
             "#0d0887"
            ],
            [
             0.1111111111111111,
             "#46039f"
            ],
            [
             0.2222222222222222,
             "#7201a8"
            ],
            [
             0.3333333333333333,
             "#9c179e"
            ],
            [
             0.4444444444444444,
             "#bd3786"
            ],
            [
             0.5555555555555556,
             "#d8576b"
            ],
            [
             0.6666666666666666,
             "#ed7953"
            ],
            [
             0.7777777777777778,
             "#fb9f3a"
            ],
            [
             0.8888888888888888,
             "#fdca26"
            ],
            [
             1,
             "#f0f921"
            ]
           ]
          },
          "colorway": [
           "#636efa",
           "#EF553B",
           "#00cc96",
           "#ab63fa",
           "#FFA15A",
           "#19d3f3",
           "#FF6692",
           "#B6E880",
           "#FF97FF",
           "#FECB52"
          ],
          "font": {
           "color": "#f2f5fa"
          },
          "geo": {
           "bgcolor": "rgb(17,17,17)",
           "lakecolor": "rgb(17,17,17)",
           "landcolor": "rgb(17,17,17)",
           "showlakes": true,
           "showland": true,
           "subunitcolor": "#506784"
          },
          "hoverlabel": {
           "align": "left"
          },
          "hovermode": "closest",
          "mapbox": {
           "style": "dark"
          },
          "paper_bgcolor": "rgb(17,17,17)",
          "plot_bgcolor": "rgb(17,17,17)",
          "polar": {
           "angularaxis": {
            "gridcolor": "#506784",
            "linecolor": "#506784",
            "ticks": ""
           },
           "bgcolor": "rgb(17,17,17)",
           "radialaxis": {
            "gridcolor": "#506784",
            "linecolor": "#506784",
            "ticks": ""
           }
          },
          "scene": {
           "xaxis": {
            "backgroundcolor": "rgb(17,17,17)",
            "gridcolor": "#506784",
            "gridwidth": 2,
            "linecolor": "#506784",
            "showbackground": true,
            "ticks": "",
            "zerolinecolor": "#C8D4E3"
           },
           "yaxis": {
            "backgroundcolor": "rgb(17,17,17)",
            "gridcolor": "#506784",
            "gridwidth": 2,
            "linecolor": "#506784",
            "showbackground": true,
            "ticks": "",
            "zerolinecolor": "#C8D4E3"
           },
           "zaxis": {
            "backgroundcolor": "rgb(17,17,17)",
            "gridcolor": "#506784",
            "gridwidth": 2,
            "linecolor": "#506784",
            "showbackground": true,
            "ticks": "",
            "zerolinecolor": "#C8D4E3"
           }
          },
          "shapedefaults": {
           "line": {
            "color": "#f2f5fa"
           }
          },
          "sliderdefaults": {
           "bgcolor": "#C8D4E3",
           "bordercolor": "rgb(17,17,17)",
           "borderwidth": 1,
           "tickwidth": 0
          },
          "ternary": {
           "aaxis": {
            "gridcolor": "#506784",
            "linecolor": "#506784",
            "ticks": ""
           },
           "baxis": {
            "gridcolor": "#506784",
            "linecolor": "#506784",
            "ticks": ""
           },
           "bgcolor": "rgb(17,17,17)",
           "caxis": {
            "gridcolor": "#506784",
            "linecolor": "#506784",
            "ticks": ""
           }
          },
          "title": {
           "x": 0.05
          },
          "updatemenudefaults": {
           "bgcolor": "#506784",
           "borderwidth": 0
          },
          "xaxis": {
           "automargin": true,
           "gridcolor": "#283442",
           "linecolor": "#506784",
           "ticks": "",
           "title": {
            "standoff": 15
           },
           "zerolinecolor": "#283442",
           "zerolinewidth": 2
          },
          "yaxis": {
           "automargin": true,
           "gridcolor": "#283442",
           "linecolor": "#506784",
           "ticks": "",
           "title": {
            "standoff": 15
           },
           "zerolinecolor": "#283442",
           "zerolinewidth": 2
          }
         }
        },
        "title": {
         "text": "Countries by Number of Wins",
         "x": 0.5
        }
       }
      },
      "image/png": "[encoded data removed]",
      "text/html": [
       "<div>                            <div id=\"5a3d3a60-c018-497a-a86c-0b096fd875c5\" class=\"plotly-graph-div\" style=\"height:525px; width:100%;\"></div>            <script type=\"text/javascript\">                require([\"plotly\"], function(Plotly) {                    window.PLOTLYENV=window.PLOTLYENV || {};                                    if (document.getElementById(\"5a3d3a60-c018-497a-a86c-0b096fd875c5\")) {                    Plotly.newPlot(                        \"5a3d3a60-c018-497a-a86c-0b096fd875c5\",                        [{\"geo\":\"geo\",\"hovertemplate\":\"Wins=%{marker.size}<br>Alpha_3_Code=%{location}<extra></extra>\",\"legendgroup\":\"\",\"locations\":[\"ARG\",\"ARM\",\"AUS\",\"AUT\",\"BRA\",\"BGR\",\"CAN\",\"CHN\",\"CZE\",\"DNK\",\"ECU\",\"FIN\",\"FRA\",\"GEO\",\"DEU\",\"GRC\",\"GUM\",\"ISL\",\"IRL\",\"ITA\",\"JPN\",\"KAZ\",\"KGZ\",\"LTU\",\"MEX\",\"MDA\",\"MNG\",\"MAR\",\"NLD\",\"NZL\",\"NOR\",\"PAN\",\"PER\",\"PHL\",\"POL\",\"PRT\",\"ROU\",\"RUS\",\"SRB\",\"SVK\",\"ZAF\",\"KOR\",\"ESP\",\"SUR\",\"SWE\",\"CHE\",\"THA\",\"UKR\",\"ARE\",\"GBR\",\"USA\",\"UZB\",\"VEN\"],\"marker\":{\"color\":\"#636efa\",\"size\":[15,7,164,14,1062,18,226,227,48,42,18,17,81,23,53,13,13,18,42,50,28,56,31,9,143,45,12,27,10,99,22,8,12,18,131,15,12,507,11,20,27,95,42,12,96,24,37,63,11,313,5328,25,2],\"sizemode\":\"area\",\"sizeref\":13.32,\"symbol\":\"circle\"},\"mode\":\"markers\",\"name\":\"\",\"showlegend\":false,\"type\":\"scattergeo\"}],                        {\"template\":{\"data\":{\"barpolar\":[{\"marker\":{\"line\":{\"color\":\"rgb(17,17,17)\",\"width\":0.5},\"pattern\":{\"fillmode\":\"overlay\",\"size\":10,\"solidity\":0.2}},\"type\":\"barpolar\"}],\"bar\":[{\"error_x\":{\"color\":\"#f2f5fa\"},\"error_y\":{\"color\":\"#f2f5fa\"},\"marker\":{\"line\":{\"color\":\"rgb(17,17,17)\",\"width\":0.5},\"pattern\":{\"fillmode\":\"overlay\",\"size\":10,\"solidity\":0.2}},\"type\":\"bar\"}],\"carpet\":[{\"aaxis\":{\"endlinecolor\":\"#A2B1C6\",\"gridcolor\":\"#506784\",\"linecolor\":\"#506784\",\"minorgridcolor\":\"#506784\",\"startlinecolor\":\"#A2B1C6\"},\"baxis\":{\"endlinecolor\":\"#A2B1C6\",\"gridcolor\":\"#506784\",\"linecolor\":\"#506784\",\"minorgridcolor\":\"#506784\",\"startlinecolor\":\"#A2B1C6\"},\"type\":\"carpet\"}],\"choropleth\":[{\"colorbar\":{\"outlinewidth\":0,\"ticks\":\"\"},\"type\":\"choropleth\"}],\"contourcarpet\":[{\"colorbar\":{\"outlinewidth\":0,\"ticks\":\"\"},\"type\":\"contourcarpet\"}],\"contour\":[{\"colorbar\":{\"outlinewidth\":0,\"ticks\":\"\"},\"colorscale\":[[0.0,\"#0d0887\"],[0.1111111111111111,\"#46039f\"],[0.2222222222222222,\"#7201a8\"],[0.3333333333333333,\"#9c179e\"],[0.4444444444444444,\"#bd3786\"],[0.5555555555555556,\"#d8576b\"],[0.6666666666666666,\"#ed7953\"],[0.7777777777777778,\"#fb9f3a\"],[0.8888888888888888,\"#fdca26\"],[1.0,\"#f0f921\"]],\"type\":\"contour\"}],\"heatmapgl\":[{\"colorbar\":{\"outlinewidth\":0,\"ticks\":\"\"},\"colorscale\":[[0.0,\"#0d0887\"],[0.1111111111111111,\"#46039f\"],[0.2222222222222222,\"#7201a8\"],[0.3333333333333333,\"#9c179e\"],[0.4444444444444444,\"#bd3786\"],[0.5555555555555556,\"#d8576b\"],[0.6666666666666666,\"#ed7953\"],[0.7777777777777778,\"#fb9f3a\"],[0.8888888888888888,\"#fdca26\"],[1.0,\"#f0f921\"]],\"type\":\"heatmapgl\"}],\"heatmap\":[{\"colorbar\":{\"outlinewidth\":0,\"ticks\":\"\"},\"colorscale\":[[0.0,\"#0d0887\"],[0.1111111111111111,\"#46039f\"],[0.2222222222222222,\"#7201a8\"],[0.3333333333333333,\"#9c179e\"],[0.4444444444444444,\"#bd3786\"],[0.5555555555555556,\"#d8576b\"],[0.6666666666666666,\"#ed7953\"],[0.7777777777777778,\"#fb9f3a\"],[0.8888888888888888,\"#fdca26\"],[1.0,\"#f0f921\"]],\"type\":\"heatmap\"}],\"histogram2dcontour\":[{\"colorbar\":{\"outlinewidth\":0,\"ticks\":\"\"},\"colorscale\":[[0.0,\"#0d0887\"],[0.1111111111111111,\"#46039f\"],[0.2222222222222222,\"#7201a8\"],[0.3333333333333333,\"#9c179e\"],[0.4444444444444444,\"#bd3786\"],[0.5555555555555556,\"#d8576b\"],[0.6666666666666666,\"#ed7953\"],[0.7777777777777778,\"#fb9f3a\"],[0.8888888888888888,\"#fdca26\"],[1.0,\"#f0f921\"]],\"type\":\"histogram2dcontour\"}],\"histogram2d\":[{\"colorbar\":{\"outlinewidth\":0,\"ticks\":\"\"},\"colorscale\":[[0.0,\"#0d0887\"],[0.1111111111111111,\"#46039f\"],[0.2222222222222222,\"#7201a8\"],[0.3333333333333333,\"#9c179e\"],[0.4444444444444444,\"#bd3786\"],[0.5555555555555556,\"#d8576b\"],[0.6666666666666666,\"#ed7953\"],[0.7777777777777778,\"#fb9f3a\"],[0.8888888888888888,\"#fdca26\"],[1.0,\"#f0f921\"]],\"type\":\"histogram2d\"}],\"histogram\":[{\"marker\":{\"pattern\":{\"fillmode\":\"overlay\",\"size\":10,\"solidity\":0.2}},\"type\":\"histogram\"}],\"mesh3d\":[{\"colorbar\":{\"outlinewidth\":0,\"ticks\":\"\"},\"type\":\"mesh3d\"}],\"parcoords\":[{\"line\":{\"colorbar\":{\"outlinewidth\":0,\"ticks\":\"\"}},\"type\":\"parcoords\"}],\"pie\":[{\"automargin\":true,\"type\":\"pie\"}],\"scatter3d\":[{\"line\":{\"colorbar\":{\"outlinewidth\":0,\"ticks\":\"\"}},\"marker\":{\"colorbar\":{\"outlinewidth\":0,\"ticks\":\"\"}},\"type\":\"scatter3d\"}],\"scattercarpet\":[{\"marker\":{\"colorbar\":{\"outlinewidth\":0,\"ticks\":\"\"}},\"type\":\"scattercarpet\"}],\"scattergeo\":[{\"marker\":{\"colorbar\":{\"outlinewidth\":0,\"ticks\":\"\"}},\"type\":\"scattergeo\"}],\"scattergl\":[{\"marker\":{\"line\":{\"color\":\"#283442\"}},\"type\":\"scattergl\"}],\"scattermapbox\":[{\"marker\":{\"colorbar\":{\"outlinewidth\":0,\"ticks\":\"\"}},\"type\":\"scattermapbox\"}],\"scatterpolargl\":[{\"marker\":{\"colorbar\":{\"outlinewidth\":0,\"ticks\":\"\"}},\"type\":\"scatterpolargl\"}],\"scatterpolar\":[{\"marker\":{\"colorbar\":{\"outlinewidth\":0,\"ticks\":\"\"}},\"type\":\"scatterpolar\"}],\"scatter\":[{\"marker\":{\"line\":{\"color\":\"#283442\"}},\"type\":\"scatter\"}],\"scatterternary\":[{\"marker\":{\"colorbar\":{\"outlinewidth\":0,\"ticks\":\"\"}},\"type\":\"scatterternary\"}],\"surface\":[{\"colorbar\":{\"outlinewidth\":0,\"ticks\":\"\"},\"colorscale\":[[0.0,\"#0d0887\"],[0.1111111111111111,\"#46039f\"],[0.2222222222222222,\"#7201a8\"],[0.3333333333333333,\"#9c179e\"],[0.4444444444444444,\"#bd3786\"],[0.5555555555555556,\"#d8576b\"],[0.6666666666666666,\"#ed7953\"],[0.7777777777777778,\"#fb9f3a\"],[0.8888888888888888,\"#fdca26\"],[1.0,\"#f0f921\"]],\"type\":\"surface\"}],\"table\":[{\"cells\":{\"fill\":{\"color\":\"#506784\"},\"line\":{\"color\":\"rgb(17,17,17)\"}},\"header\":{\"fill\":{\"color\":\"#2a3f5f\"},\"line\":{\"color\":\"rgb(17,17,17)\"}},\"type\":\"table\"}]},\"layout\":{\"annotationdefaults\":{\"arrowcolor\":\"#f2f5fa\",\"arrowhead\":0,\"arrowwidth\":1},\"autotypenumbers\":\"strict\",\"coloraxis\":{\"colorbar\":{\"outlinewidth\":0,\"ticks\":\"\"}},\"colorscale\":{\"diverging\":[[0,\"#8e0152\"],[0.1,\"#c51b7d\"],[0.2,\"#de77ae\"],[0.3,\"#f1b6da\"],[0.4,\"#fde0ef\"],[0.5,\"#f7f7f7\"],[0.6,\"#e6f5d0\"],[0.7,\"#b8e186\"],[0.8,\"#7fbc41\"],[0.9,\"#4d9221\"],[1,\"#276419\"]],\"sequential\":[[0.0,\"#0d0887\"],[0.1111111111111111,\"#46039f\"],[0.2222222222222222,\"#7201a8\"],[0.3333333333333333,\"#9c179e\"],[0.4444444444444444,\"#bd3786\"],[0.5555555555555556,\"#d8576b\"],[0.6666666666666666,\"#ed7953\"],[0.7777777777777778,\"#fb9f3a\"],[0.8888888888888888,\"#fdca26\"],[1.0,\"#f0f921\"]],\"sequentialminus\":[[0.0,\"#0d0887\"],[0.1111111111111111,\"#46039f\"],[0.2222222222222222,\"#7201a8\"],[0.3333333333333333,\"#9c179e\"],[0.4444444444444444,\"#bd3786\"],[0.5555555555555556,\"#d8576b\"],[0.6666666666666666,\"#ed7953\"],[0.7777777777777778,\"#fb9f3a\"],[0.8888888888888888,\"#fdca26\"],[1.0,\"#f0f921\"]]},\"colorway\":[\"#636efa\",\"#EF553B\",\"#00cc96\",\"#ab63fa\",\"#FFA15A\",\"#19d3f3\",\"#FF6692\",\"#B6E880\",\"#FF97FF\",\"#FECB52\"],\"font\":{\"color\":\"#f2f5fa\"},\"geo\":{\"bgcolor\":\"rgb(17,17,17)\",\"lakecolor\":\"rgb(17,17,17)\",\"landcolor\":\"rgb(17,17,17)\",\"showlakes\":true,\"showland\":true,\"subunitcolor\":\"#506784\"},\"hoverlabel\":{\"align\":\"left\"},\"hovermode\":\"closest\",\"mapbox\":{\"style\":\"dark\"},\"paper_bgcolor\":\"rgb(17,17,17)\",\"plot_bgcolor\":\"rgb(17,17,17)\",\"polar\":{\"angularaxis\":{\"gridcolor\":\"#506784\",\"linecolor\":\"#506784\",\"ticks\":\"\"},\"bgcolor\":\"rgb(17,17,17)\",\"radialaxis\":{\"gridcolor\":\"#506784\",\"linecolor\":\"#506784\",\"ticks\":\"\"}},\"scene\":{\"xaxis\":{\"backgroundcolor\":\"rgb(17,17,17)\",\"gridcolor\":\"#506784\",\"gridwidth\":2,\"linecolor\":\"#506784\",\"showbackground\":true,\"ticks\":\"\",\"zerolinecolor\":\"#C8D4E3\"},\"yaxis\":{\"backgroundcolor\":\"rgb(17,17,17)\",\"gridcolor\":\"#506784\",\"gridwidth\":2,\"linecolor\":\"#506784\",\"showbackground\":true,\"ticks\":\"\",\"zerolinecolor\":\"#C8D4E3\"},\"zaxis\":{\"backgroundcolor\":\"rgb(17,17,17)\",\"gridcolor\":\"#506784\",\"gridwidth\":2,\"linecolor\":\"#506784\",\"showbackground\":true,\"ticks\":\"\",\"zerolinecolor\":\"#C8D4E3\"}},\"shapedefaults\":{\"line\":{\"color\":\"#f2f5fa\"}},\"sliderdefaults\":{\"bgcolor\":\"#C8D4E3\",\"bordercolor\":\"rgb(17,17,17)\",\"borderwidth\":1,\"tickwidth\":0},\"ternary\":{\"aaxis\":{\"gridcolor\":\"#506784\",\"linecolor\":\"#506784\",\"ticks\":\"\"},\"baxis\":{\"gridcolor\":\"#506784\",\"linecolor\":\"#506784\",\"ticks\":\"\"},\"bgcolor\":\"rgb(17,17,17)\",\"caxis\":{\"gridcolor\":\"#506784\",\"linecolor\":\"#506784\",\"ticks\":\"\"}},\"title\":{\"x\":0.05},\"updatemenudefaults\":{\"bgcolor\":\"#506784\",\"borderwidth\":0},\"xaxis\":{\"automargin\":true,\"gridcolor\":\"#283442\",\"linecolor\":\"#506784\",\"ticks\":\"\",\"title\":{\"standoff\":15},\"zerolinecolor\":\"#283442\",\"zerolinewidth\":2},\"yaxis\":{\"automargin\":true,\"gridcolor\":\"#283442\",\"linecolor\":\"#506784\",\"ticks\":\"\",\"title\":{\"standoff\":15},\"zerolinecolor\":\"#283442\",\"zerolinewidth\":2}}},\"geo\":{\"domain\":{\"x\":[0.0,1.0],\"y\":[0.0,1.0]},\"projection\":{\"type\":\"natural earth\"},\"center\":{}},\"legend\":{\"tracegroupgap\":0,\"itemsizing\":\"constant\"},\"margin\":{\"t\":60},\"title\":{\"text\":\"Countries by Number of Wins\",\"x\":0.5}},                        {\"responsive\": true}                    ).then(function(){\n",
       "                            \n",
       "var gd = document.getElementById('5a3d3a60-c018-497a-a86c-0b096fd875c5');\n",
       "var x = new MutationObserver(function (mutations, observer) {{\n",
       "        var display = window.getComputedStyle(gd).display;\n",
       "        if (!display || display === 'none') {{\n",
       "            console.log([gd, 'removed!']);\n",
       "            Plotly.purge(gd);\n",
       "            observer.disconnect();\n",
       "        }}\n",
       "}});\n",
       "\n",
       "// Listen for the removal of the full notebook cells\n",
       "var notebookContainer = gd.closest('#notebook-container');\n",
       "if (notebookContainer) {{\n",
       "    x.observe(notebookContainer, {childList: true});\n",
       "}}\n",
       "\n",
       "// Listen for the clearing of the current output cell\n",
       "var outputEl = gd.closest('.output');\n",
       "if (outputEl) {{\n",
       "    x.observe(outputEl, {childList: true});\n",
       "}}\n",
       "\n",
       "                        })                };                });            </script>        </div>"
      ]
     },
     "metadata": {},
     "output_type": "display_data"
    }
   ],
   "source": [
    "fig.update_layout(\n",
    "    title = {'text': 'Countries by Number of Wins', 'x':0.5},\n",
    "    template='plotly_dark'\n",
    "    )\n",
    "fig.show()"
   ]
  },
  {
   "cell_type": "code",
   "execution_count": null,
   "id": "ccf0fde5-a6d0-43b7-938e-9ada2becde8f",
   "metadata": {},
   "outputs": [],
   "source": []
  },
  {
   "cell_type": "code",
   "execution_count": 113,
   "id": "fc0c7e1d-7d5a-4c29-8ead-312a2bcc8ba7",
   "metadata": {},
   "outputs": [
    {
     "data": {
      "text/plain": [
       "'scattergeo_wins.html'"
      ]
     },
     "execution_count": 113,
     "metadata": {},
     "output_type": "execute_result"
    }
   ],
   "source": [
    "offline.plot(fig, show_link=True, filename='scattergeo_wins.html', image='png', image_filename='Geo_Scatter_Plot_of_Wins')"
   ]
  },
  {
   "cell_type": "code",
   "execution_count": null,
   "id": "28a34055-5d7d-45b6-9c5d-25f165bc8f5d",
   "metadata": {},
   "outputs": [],
   "source": []
  }
 ],
 "metadata": {
  "kernelspec": {
   "display_name": "Python 3 (ipykernel)",
   "language": "python",
   "name": "python3"
  },
  "language_info": {
   "codemirror_mode": {
    "name": "ipython",
    "version": 3
   },
   "file_extension": ".py",
   "mimetype": "text/x-python",
   "name": "python",
   "nbconvert_exporter": "python",
   "pygments_lexer": "ipython3",
   "version": "3.9.7"
  },
  "toc-autonumbering": true,
  "toc-showmarkdowntxt": true
 },
 "nbformat": 4,
 "nbformat_minor": 5
}
